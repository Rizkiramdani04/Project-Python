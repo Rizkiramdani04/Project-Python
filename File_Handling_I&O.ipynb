{
  "nbformat": 4,
  "nbformat_minor": 0,
  "metadata": {
    "colab": {
      "provenance": []
    },
    "kernelspec": {
      "name": "python3",
      "display_name": "Python 3"
    },
    "language_info": {
      "name": "python"
    }
  },
  "cells": [
    {
      "cell_type": "code",
      "execution_count": null,
      "metadata": {
        "id": "oMZ4Vs67Atud"
      },
      "outputs": [],
      "source": [
        "#memasukan nilai ke file ini_file\n",
        "with open('ini_file.txt','w') as file:\n",
        "  file.write('Hai Saya Rizki Ramdani')"
      ]
    },
    {
      "cell_type": "code",
      "source": [
        "with open('ini_file.txt','r')as file:\n",
        "  nilai=file.read()\n",
        "  print(nilai)"
      ],
      "metadata": {
        "colab": {
          "base_uri": "https://localhost:8080/"
        },
        "id": "N_XAkLk6BCkD",
        "outputId": "c5e3431b-ed9d-4ecb-8dfd-d4ead1336992"
      },
      "execution_count": null,
      "outputs": [
        {
          "output_type": "stream",
          "name": "stdout",
          "text": [
            "Hai Saya Rizki Ramdani\n"
          ]
        }
      ]
    },
    {
      "cell_type": "markdown",
      "source": [
        "# Intermediate"
      ],
      "metadata": {
        "id": "-VYJfkUSBO-b"
      }
    },
    {
      "cell_type": "markdown",
      "source": [
        "## contoh 1 : menyalin file"
      ],
      "metadata": {
        "id": "eztZq3z6BRFs"
      }
    },
    {
      "cell_type": "code",
      "source": [
        "file_sumber='sumber.txt'\n",
        "file_tujuan='tujuan.txt'\n",
        "with open(file_sumber,'r') as sumber, open(file_tujuan,'w') as tujuan:\n",
        "  for baris in sumber:\n",
        "    tujuan.write(baris)\n",
        "    print(baris)"
      ],
      "metadata": {
        "colab": {
          "base_uri": "https://localhost:8080/",
          "height": 211
        },
        "id": "AgQ0a7C7BR3u",
        "outputId": "33914b9d-0b6e-4c95-c78c-5a5e74d28da4"
      },
      "execution_count": null,
      "outputs": [
        {
          "output_type": "error",
          "ename": "FileNotFoundError",
          "evalue": "[Errno 2] No such file or directory: 'sumber.txt'",
          "traceback": [
            "\u001b[0;31m---------------------------------------------------------------------------\u001b[0m",
            "\u001b[0;31mFileNotFoundError\u001b[0m                         Traceback (most recent call last)",
            "\u001b[0;32m<ipython-input-3-5dfff52568aa>\u001b[0m in \u001b[0;36m<cell line: 3>\u001b[0;34m()\u001b[0m\n\u001b[1;32m      1\u001b[0m \u001b[0mfile_sumber\u001b[0m\u001b[0;34m=\u001b[0m\u001b[0;34m'sumber.txt'\u001b[0m\u001b[0;34m\u001b[0m\u001b[0;34m\u001b[0m\u001b[0m\n\u001b[1;32m      2\u001b[0m \u001b[0mfile_tujuan\u001b[0m\u001b[0;34m=\u001b[0m\u001b[0;34m'tujuan.txt'\u001b[0m\u001b[0;34m\u001b[0m\u001b[0;34m\u001b[0m\u001b[0m\n\u001b[0;32m----> 3\u001b[0;31m \u001b[0;32mwith\u001b[0m \u001b[0mopen\u001b[0m\u001b[0;34m(\u001b[0m\u001b[0mfile_sumber\u001b[0m\u001b[0;34m,\u001b[0m\u001b[0;34m'r'\u001b[0m\u001b[0;34m)\u001b[0m \u001b[0;32mas\u001b[0m \u001b[0msumber\u001b[0m\u001b[0;34m,\u001b[0m \u001b[0mopen\u001b[0m\u001b[0;34m(\u001b[0m\u001b[0mfile_tujuan\u001b[0m\u001b[0;34m,\u001b[0m\u001b[0;34m'w'\u001b[0m\u001b[0;34m)\u001b[0m \u001b[0;32mas\u001b[0m \u001b[0mtujuan\u001b[0m\u001b[0;34m:\u001b[0m\u001b[0;34m\u001b[0m\u001b[0;34m\u001b[0m\u001b[0m\n\u001b[0m\u001b[1;32m      4\u001b[0m   \u001b[0;32mfor\u001b[0m \u001b[0mbaris\u001b[0m \u001b[0;32min\u001b[0m \u001b[0msumber\u001b[0m\u001b[0;34m:\u001b[0m\u001b[0;34m\u001b[0m\u001b[0;34m\u001b[0m\u001b[0m\n\u001b[1;32m      5\u001b[0m     \u001b[0mtujuan\u001b[0m\u001b[0;34m.\u001b[0m\u001b[0mwrite\u001b[0m\u001b[0;34m(\u001b[0m\u001b[0mbaris\u001b[0m\u001b[0;34m)\u001b[0m\u001b[0;34m\u001b[0m\u001b[0;34m\u001b[0m\u001b[0m\n",
            "\u001b[0;31mFileNotFoundError\u001b[0m: [Errno 2] No such file or directory: 'sumber.txt'"
          ]
        }
      ]
    },
    {
      "cell_type": "code",
      "source": [
        "import csv\n",
        "\n",
        "# Define the data as a list of dictionaries\n",
        "data = [\n",
        "    {\"Name\": \"Alice\", \"Score\": 85},\n",
        "    {\"Name\": \"Bob\", \"Score\": 92},\n",
        "    {\"Name\": \"Charlie\", \"Score\": 78},\n",
        "    {\"Name\": \"David\", \"Score\": 95},\n",
        "    {\"Name\": \"Eve\", \"Score\": 88},\n",
        "    {\"Name\": \"Frank\", \"Score\": 76}\n",
        "]\n",
        "\n",
        "# Specify the CSV file path\n",
        "output_csv = \"input.csv\"\n",
        "\n",
        "# Write the data to the CSV file\n",
        "with open(output_csv, \"w\", newline=\"\") as csvfile:\n",
        "    fieldnames = [\"Name\", \"Score\"]\n",
        "    writer = csv.DictWriter(csvfile, fieldnames=fieldnames)\n",
        "\n",
        "    # Write the header row\n",
        "    writer.writeheader()\n",
        "\n",
        "    # Write the data rows\n",
        "    for row in data:\n",
        "        writer.writerow(row)\n",
        "\n",
        "print(\"CSV file 'input.csv' has been created successfully.\")"
      ],
      "metadata": {
        "colab": {
          "base_uri": "https://localhost:8080/"
        },
        "id": "QyIN2OwLBtnh",
        "outputId": "df816840-ca44-4b00-b790-a12d63c00c2c"
      },
      "execution_count": null,
      "outputs": [
        {
          "output_type": "stream",
          "name": "stdout",
          "text": [
            "CSV file 'input.csv' has been created successfully.\n"
          ]
        }
      ]
    },
    {
      "cell_type": "code",
      "source": [
        "import csv\n",
        "\n",
        "file_input = \"input.csv\"\n",
        "file_output = \"output.csv\"\n",
        "\n",
        "with open(file_input, \"r\") as masukan, open(file_output, \"w\", newline=\"\") as keluaran:\n",
        "    pembaca = csv.reader(masukan)\n",
        "    penulis = csv.writer(keluaran)\n",
        "\n",
        "    # Skip the header row\n",
        "    next(pembaca)\n",
        "\n",
        "    # Contoh: Mengalikan nilai pada kolom kedua dengan 2\n",
        "    for baris in pembaca:\n",
        "        baruan_baris = [baris[0], int(baris[1]) * 2]  # Lakukan manipulasi data sesuai kebutuhan\n",
        "        print(baruan_baris)\n",
        "        penulis.writerow(baruan_baris)\n"
      ],
      "metadata": {
        "colab": {
          "base_uri": "https://localhost:8080/"
        },
        "id": "4Cu0DhdrBvsi",
        "outputId": "2e0ffce6-2a14-410c-a580-79b7e757f8ed"
      },
      "execution_count": null,
      "outputs": [
        {
          "output_type": "stream",
          "name": "stdout",
          "text": [
            "['Alice', 170]\n",
            "['Bob', 184]\n",
            "['Charlie', 156]\n",
            "['David', 190]\n",
            "['Eve', 176]\n",
            "['Frank', 152]\n"
          ]
        }
      ]
    },
    {
      "cell_type": "markdown",
      "source": [
        "## contoh 2 : Menyaring dan Menulis Baris Terpilih ke File CSV Baru"
      ],
      "metadata": {
        "id": "Kzp_ofS7ByfG"
      }
    },
    {
      "cell_type": "code",
      "source": [
        "import csv\n",
        "\n",
        "file_input = \"input.csv\"\n",
        "file_output = \"output.csv\"\n",
        "\n",
        "with open(file_input, \"r\") as masukan, open(file_output, \"w\", newline=\"\") as keluaran:\n",
        "    pembaca = csv.reader(masukan)\n",
        "    penulis = csv.writer(keluaran)\n",
        "\n",
        "    # Skip the header row\n",
        "    next(pembaca)\n",
        "\n",
        "    # Contoh: Menulis hanya baris yang nilai kolom kedua lebih dari 10\n",
        "    for baris in pembaca:\n",
        "        if int(baris[1]) >  90:  # Menyaring baris berdasarkan kondisi tertentu\n",
        "            penulis.writerow(baris)\n",
        "            print(baris)\n"
      ],
      "metadata": {
        "id": "kMIkXA-HB0NI",
        "outputId": "0dd7c421-2c3f-4121-d4fd-efb2e1ee4db2",
        "colab": {
          "base_uri": "https://localhost:8080/"
        }
      },
      "execution_count": null,
      "outputs": [
        {
          "output_type": "stream",
          "name": "stdout",
          "text": [
            "['Bob', '92']\n",
            "['David', '95']\n"
          ]
        }
      ]
    }
  ]
}