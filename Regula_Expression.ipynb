{
  "nbformat": 4,
  "nbformat_minor": 0,
  "metadata": {
    "colab": {
      "provenance": []
    },
    "kernelspec": {
      "name": "python3",
      "display_name": "Python 3"
    },
    "language_info": {
      "name": "python"
    }
  },
  "cells": [
    {
      "cell_type": "code",
      "execution_count": null,
      "metadata": {
        "colab": {
          "base_uri": "https://localhost:8080/"
        },
        "id": "vRsrT9KcZlgQ",
        "outputId": "ec53849c-aa37-4ee0-f58b-19318d040387"
      },
      "outputs": [
        {
          "output_type": "stream",
          "name": "stdout",
          "text": [
            "Start Index: 16\n",
            "End Index: 19\n",
            " ipk : 18\n",
            " ipk : 21\n",
            "index pertamanya: 18\n"
          ]
        }
      ],
      "source": [
        "import re\n",
        "\n",
        "s = 'MySkill: portal for any learning path'\n",
        "\n",
        " #match adalah tempat taro re search\n",
        " # ' ' kata yang ingin kita cari\n",
        " # tempat taro string\n",
        "match = re.search(r'for', s)\n",
        "\n",
        " # .start indeks awal pada string begitu end sebaliknya\n",
        "print('Start Index:', match.start())\n",
        "print('End Index:', match.end())\n",
        "\n",
        "\n",
        "Name = 'Aditya dengan ipk 350'\n",
        "\n",
        "match = re.search(r'\\d+',Name)\n",
        "print (' ipk :', match.start())\n",
        "print (' ipk :', match.end())\n",
        "\n",
        "A = 'Hari ini gw ingin ke perpusnas'\n",
        "\n",
        "match = re.search(r'ke',A)\n",
        "print ('index pertamanya:',match.start())"
      ]
    },
    {
      "cell_type": "markdown",
      "source": [
        "## MetaCharacter"
      ],
      "metadata": {
        "id": "YbehXFkYZoeu"
      }
    },
    {
      "cell_type": "code",
      "source": [
        "#memasukan regular expression\n",
        "import re\n",
        "email='riskiram122@gmail.com'\n",
        "#mencari titik dalam nilai email\n",
        "match=re.search(r'.',email)\n",
        "print(match)"
      ],
      "metadata": {
        "colab": {
          "base_uri": "https://localhost:8080/"
        },
        "id": "ws5PxcfVZqhM",
        "outputId": "c4e49704-6566-4eb7-c268-3c7e11624bfb"
      },
      "execution_count": null,
      "outputs": [
        {
          "output_type": "stream",
          "name": "stdout",
          "text": [
            "<re.Match object; span=(0, 1), match='r'>\n"
          ]
        }
      ]
    },
    {
      "cell_type": "markdown",
      "source": [
        "## Module Regex"
      ],
      "metadata": {
        "id": "IX_6T_1eaAMw"
      }
    },
    {
      "cell_type": "markdown",
      "source": [
        "### re.findall()"
      ],
      "metadata": {
        "id": "aSto4pkdakp1"
      }
    },
    {
      "cell_type": "code",
      "source": [
        "string=\"\"\" Hai Perkenalkan\n",
        "            Rizki Ramdani\n",
        "            Nim 41215594\"\"\"\n",
        "#memunculkan nilai digits\n",
        "digits=\"(\\d+)\"\n",
        "match=re.findall(digits,string)\n",
        "print(match)"
      ],
      "metadata": {
        "colab": {
          "base_uri": "https://localhost:8080/"
        },
        "id": "C9HqQKz5aDKy",
        "outputId": "227526a4-7cbc-47de-965c-7c8580fde581"
      },
      "execution_count": null,
      "outputs": [
        {
          "output_type": "stream",
          "name": "stdout",
          "text": [
            "['41215594']\n"
          ]
        }
      ]
    },
    {
      "cell_type": "markdown",
      "source": [
        "### re.compile()"
      ],
      "metadata": {
        "id": "69MU5pR0anQ9"
      }
    },
    {
      "cell_type": "code",
      "source": [
        "import re\n",
        "#memilih dari huruf a-p dengan tanpa memandang kapital atau tidak\n",
        "nilai=re.compile('[a-p]', flags=re.IGNORECASE)\n",
        "print(nilai.findall(\"Rizki Ramdani Mantap\"))"
      ],
      "metadata": {
        "colab": {
          "base_uri": "https://localhost:8080/"
        },
        "id": "Mkc0jts4apN-",
        "outputId": "81fccc78-0ed1-4831-c81f-f733c1576479"
      },
      "execution_count": null,
      "outputs": [
        {
          "output_type": "stream",
          "name": "stdout",
          "text": [
            "['i', 'k', 'i', 'a', 'm', 'd', 'a', 'n', 'i', 'M', 'a', 'n', 'a', 'p']\n"
          ]
        }
      ]
    },
    {
      "cell_type": "markdown",
      "source": [
        "### re.split()"
      ],
      "metadata": {
        "id": "9YSPwaurbEr7"
      }
    },
    {
      "cell_type": "markdown",
      "source": [
        "Parameter Pertama, pola menunjukkan ekspresi reguler, string adalah string yang diberikan di mana pola akan dicari dan di mana pemisahan terjadi, maxsplit jika tidak diberikan dianggap nol '0', dan jika ada nilai bukan nol yang diberikan, maka paling banyak terjadi perpecahan. Jika maxsplit = 1, maka string akan terbelah sekali saja, menghasilkan daftar panjang 2. Bendera sangat berguna dan dapat membantu untuk mempersingkat kode, mereka bukan parameter yang diperlukan, misalnya: flags = re.IGNORECASE, dalam pemisahan ini , kasus, yaitu huruf kecil atau huruf besar akan diabaikan."
      ],
      "metadata": {
        "id": "68PNACBUbHtl"
      }
    },
    {
      "cell_type": "markdown",
      "source": [
        "pisahkan string dengan kemunculan karakter atau pola, setelah menemukan pola itu, karakter yang tersisa dari string dikembalikan sebagai bagian dari daftar yang dihasilkan.\n",
        "\n",
        "re.split(pattern,string,maxsplit=0,flags=0\n",
        "\n",
        "1. Paramater pertama, pila menunjukan ekspresi reguler, string adalah string yang diberikan dimana pola akan dicari dan dimana pemisahan terjadi.\n",
        "2. maxsplit jika tidak diberikan dianggap nol '0' dan jika ada nilai bukan nol yang diberikan, maka paling banyak terjadi perpecahan.\n",
        "3. jika maxsplit =1, maka string akan terbelah sekali saja, menghasilkan daftar panjang 2. Bendera sangat berguna dan dapat membantu untuk mempersingkat kode, mereka buka parameter yang diperlukan, misalnya: flags = re.IGONORCASE, dalam pemisahan ini, kasus, yaitu huruf kecil atau huruf besar diabaikan.\n",
        "'\\w+': whitespaces"
      ],
      "metadata": {
        "id": "LsbrdYdrbKoS"
      }
    },
    {
      "cell_type": "code",
      "source": [
        "# Example 1\n",
        "from re import split\n",
        "\n",
        "# '\\W+' denotes Non-Alphanumeric Characters\n",
        "# or group of characters Upon finding ','\n",
        "# or whitespace ' ', the split(), splits the\n",
        "# string from that point\n",
        "print(split('\\W+', 'Words, words , Words'))\n",
        "print(split('\\W+', \"Word's words Words\"))\n",
        "\n",
        "# Here ':', ' ' ,',' are not AlphaNumeric thus,\n",
        "# the point where splitting occurs\n",
        "print(split('\\W+', 'On 12th Jan 2016, at 11:02 AM'))\n",
        "\n",
        "# '\\d+' denotes Numeric Characters or group of\n",
        "# characters Splitting occurs at '12', '2016',\n",
        "# '11', '02' only\n",
        "print(split('\\d+', 'On 12th Jan 2016, at 11:02 AM'))"
      ],
      "metadata": {
        "colab": {
          "base_uri": "https://localhost:8080/"
        },
        "id": "yHuIKyr0bIII",
        "outputId": "267c78e0-2cfe-40a6-e1d2-3300961c2e80"
      },
      "execution_count": null,
      "outputs": [
        {
          "output_type": "stream",
          "name": "stdout",
          "text": [
            "['Words', 'words', 'Words']\n",
            "['Word', 's', 'words', 'Words']\n",
            "['On', '12th', 'Jan', '2016', 'at', '11', '02', 'AM']\n",
            "['On ', 'th Jan ', ', at ', ':', ' AM']\n"
          ]
        }
      ]
    },
    {
      "cell_type": "markdown",
      "source": [
        "### re.sub()"
      ],
      "metadata": {
        "id": "2EuhTCP2baIo"
      }
    },
    {
      "cell_type": "code",
      "source": [
        "import re\n",
        "\n",
        "# Regular Expression pattern 'ub' matches the\n",
        "# string at \"Subject\" and \"Uber\". As the CASE\n",
        "# has been ignored, using Flag, 'ub' should\n",
        "# match twice with the string Upon matching,\n",
        "# 'ub' is replaced by '~*' in \"Subject\", and\n",
        "# in \"Uber\", 'Ub' is replaced.\n",
        "print(re.sub('ub', '~*', 'Subject has Uber booked already',\n",
        "             flags=re.IGNORECASE))\n",
        "\n",
        "# Consider the Case Sensitivity, 'Ub' in\n",
        "# \"Uber\", will not be replaced.\n",
        "print(re.sub('ub', '~*', 'Subject has Uber booked already'))\n",
        "\n",
        "# As count has been given value 1, the maximum\n",
        "# times replacement occurs is 1\n",
        "print(re.sub('ub', '~*', 'Subject has Uber booked already',\n",
        "             count=1, flags=re.IGNORECASE))\n",
        "\n",
        "# 'r' before the pattern denotes RE, \\s is for\n",
        "# start and end of a String.\n",
        "print(re.sub('\\sAND\\s', ' & ', 'Baked Beans And Spam',\n",
        "             flags=re.IGNORECASE))\n",
        "\n",
        "print(re.sub('ti','ty','Aditia adiTia pramana putra',count = 1,flags = re.IGNORECASE))\n",
        "print(re.sub(r'ti','ty','Aditia adiTia pramana putra',flags = re.IGNORECASE))\n",
        "print(re.sub(r'ti','ty','Aditia adiTia pramana putra'))"
      ],
      "metadata": {
        "colab": {
          "base_uri": "https://localhost:8080/"
        },
        "id": "Ir7HfX0bbbj1",
        "outputId": "9eff8341-601e-4a7f-d946-d77ddc9f248a"
      },
      "execution_count": null,
      "outputs": [
        {
          "output_type": "stream",
          "name": "stdout",
          "text": [
            "S~*ject has ~*er booked already\n",
            "S~*ject has Uber booked already\n",
            "S~*ject has Uber booked already\n",
            "Baked Beans & Spam\n",
            "Aditya adiTia pramana putra\n",
            "Aditya aditya pramana putra\n",
            "Aditya adiTia pramana putra\n"
          ]
        }
      ]
    },
    {
      "cell_type": "markdown",
      "source": [
        "### re.subn()"
      ],
      "metadata": {
        "id": "zLuVUZAVbeDX"
      }
    },
    {
      "cell_type": "code",
      "source": [
        "import re\n",
        "\n",
        "print(re.subn('ub', '~*', 'Subject has Uber booked already'))\n",
        "\n",
        "t = re.subn('ub', '~*', 'Subject has Uber booked already',\n",
        "            flags=re.IGNORECASE)\n",
        "print(t)\n",
        "print(len(t))\n",
        "\n",
        "# This will give same output as sub() would have\n",
        "print(t[0])"
      ],
      "metadata": {
        "colab": {
          "base_uri": "https://localhost:8080/"
        },
        "id": "X7DL3zwJbgfD",
        "outputId": "9cb6a2ea-9cfb-463b-97fa-597739fdf6df"
      },
      "execution_count": null,
      "outputs": [
        {
          "output_type": "stream",
          "name": "stdout",
          "text": [
            "('S~*ject has Uber booked already', 1)\n",
            "('S~*ject has ~*er booked already', 2)\n",
            "2\n",
            "S~*ject has ~*er booked already\n"
          ]
        }
      ]
    },
    {
      "cell_type": "markdown",
      "source": [
        "### re.escape()"
      ],
      "metadata": {
        "id": "zTmXSNwobiIv"
      }
    },
    {
      "cell_type": "code",
      "source": [
        "\n",
        "import re\n",
        "\n",
        "# escape() returns a string with BackSlash '\\',\n",
        "# before every Non-Alphanumeric Character\n",
        "# In 1st case only ' ', is not alphanumeric\n",
        "# In 2nd case, ' ', caret '^', '-', '[]', '\\'\n",
        "# are not alphanumeric\n",
        "print(re.escape(\"This is Awesome even 1 AM\"))\n",
        "print(re.escape(\"I Asked what is this [a-9], he said \\t ^WoW\"))"
      ],
      "metadata": {
        "colab": {
          "base_uri": "https://localhost:8080/"
        },
        "id": "fvd7YieDbkYi",
        "outputId": "d3fa1847-2623-4c4d-a4ed-7c3b9d38ac78"
      },
      "execution_count": null,
      "outputs": [
        {
          "output_type": "stream",
          "name": "stdout",
          "text": [
            "This\\ is\\ Awesome\\ even\\ 1\\ AM\n",
            "I\\ Asked\\ what\\ is\\ this\\ \\[a\\-9\\],\\ he\\ said\\ \\\t\\ \\^WoW\n"
          ]
        }
      ]
    }
  ]
}