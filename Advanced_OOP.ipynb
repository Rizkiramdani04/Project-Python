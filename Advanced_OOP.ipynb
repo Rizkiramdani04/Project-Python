{
  "nbformat": 4,
  "nbformat_minor": 0,
  "metadata": {
    "colab": {
      "provenance": []
    },
    "kernelspec": {
      "name": "python3",
      "display_name": "Python 3"
    },
    "language_info": {
      "name": "python"
    }
  },
  "cells": [
    {
      "cell_type": "code",
      "execution_count": null,
      "metadata": {
        "id": "03OTR89acN_h"
      },
      "outputs": [],
      "source": []
    },
    {
      "cell_type": "markdown",
      "source": [
        "## Simple"
      ],
      "metadata": {
        "id": "W8wuhsq-clD3"
      }
    },
    {
      "cell_type": "markdown",
      "source": [
        "### Contoh 1"
      ],
      "metadata": {
        "id": "OEsFOchecmf5"
      }
    },
    {
      "cell_type": "code",
      "source": [
        "class Library:\n",
        "  def __init__(self, name):\n",
        "    self.name=name\n",
        "    self.books=[]\n",
        "    self.members=[]\n",
        "  def add_book(self,book):\n",
        "    self.books.append(book)\n",
        "  def add_member(self,member):\n",
        "    self.members.append(member)\n",
        "  def lend_book(self, book,member):\n",
        "    if book in self.books and member in self.members:\n",
        "      self.books.remove(book)\n",
        "      return f'{book} berhasil dipinjam oleh {member}.'\n",
        "    else:\n",
        "      return 'Buku tidak tersedia atau anggota tidak terdaftar'\n",
        "\n",
        "#contoh penggunaan\n",
        "my_library=Library('Library A')\n",
        "book1='Book 1'\n",
        "book2='Book 2'\n",
        "member1='Member 1'\n",
        "\n",
        "my_library.add_book(book1)\n",
        "my_library.add_book(book2)\n",
        "my_library.add_member(member1)\n",
        "lending_result=my_library.lend_book(book1, member1)\n",
        "\n",
        "print('Daftar Buku di', my_library.name, \":\", my_library.books)\n",
        "print('Daftar Anggota: ', my_library.members)\n",
        "print(lending_result)"
      ],
      "metadata": {
        "colab": {
          "base_uri": "https://localhost:8080/"
        },
        "id": "EySyDMvfcn09",
        "outputId": "406e29d6-a118-4fb0-aa18-c393c90e6a6d"
      },
      "execution_count": null,
      "outputs": [
        {
          "output_type": "stream",
          "name": "stdout",
          "text": [
            "Daftar Buku di Library A : ['Book 2']\n",
            "Daftar Anggota:  ['Member 1']\n",
            "Book 1 berhasil dipinjam oleh Member 1.\n"
          ]
        }
      ]
    },
    {
      "cell_type": "markdown",
      "source": [
        "Penjelasan: Kelas Library menciptakan objek perpustakaan dan mengelola daftar buku. Kami menggunakan objek my_library untuk menambahkan dan menghapus buku."
      ],
      "metadata": {
        "id": "tB5RmU2eeIRu"
      }
    },
    {
      "cell_type": "markdown",
      "source": [
        "### Contoh 2"
      ],
      "metadata": {
        "id": "OXmZ7JGpeJB4"
      }
    },
    {
      "cell_type": "code",
      "source": [
        "class BankAccount:\n",
        "  def __init__(self,balance=0):\n",
        "    self.balance=balance\n",
        "  def deposit(self, amount):\n",
        "    self.balance +=amount\n",
        "  def withdraw(self,amount):\n",
        "    if amount <= self.balance:\n",
        "      self.balance -=amount\n",
        "      return amount\n",
        "    else:\n",
        "      return 'Saldo Tidak Mencukupi'\n",
        "  def transfer(self,amount,recipient):\n",
        "    withdrawal=self.withdraw(amount)\n",
        "    if isinstance(withdrawal, int):\n",
        "      recipient.deposit(withdrawal)\n",
        "      return f'{amount} berhasil ditransfer'\n",
        "    else:\n",
        "      return 'Transfer Gagal'\n",
        "class BankCustomer:\n",
        "  def __init__(self, name):\n",
        "    self.name=name\n",
        "    self.account=BankAccount()\n",
        "customer1=BankCustomer('Rizki')\n",
        "customer2=BankCustomer('Ramdani')\n",
        "\n",
        "customer1.account.deposit(1.000000)\n",
        "transfer_result=customer1.account.transfer(500.000, customer2.account)\n",
        "\n",
        "print(f'Saldo akun {customer1.name}: ', customer1.account.balance)\n",
        "print(f'Saldo akun {customer2.name}: ', customer2.account.balance)\n",
        "print(transfer_result)\n"
      ],
      "metadata": {
        "colab": {
          "base_uri": "https://localhost:8080/"
        },
        "id": "FortZ5JheKv4",
        "outputId": "b8ac4515-1328-4bf2-fbf4-a2f3c446282e"
      },
      "execution_count": null,
      "outputs": [
        {
          "output_type": "stream",
          "name": "stdout",
          "text": [
            "Saldo akun Rizki:  1.0\n",
            "Saldo akun Ramdani:  0\n",
            "Transfer Gagal\n"
          ]
        }
      ]
    },
    {
      "cell_type": "markdown",
      "source": [
        "## Intermediate"
      ],
      "metadata": {
        "id": "I8QX_LAkgjt9"
      }
    },
    {
      "cell_type": "code",
      "source": [
        "from abc import ABC, abstractmethod\n",
        "\n",
        "class Shape(ABC):\n",
        "  def __init__(self,color='white'):\n",
        "    self.color=color\n",
        "  @abstractmethod\n",
        "  def area(self):\n",
        "    pass\n",
        "class Circle(Shape):\n",
        "  def __init__(self, radius,color='white'):\n",
        "    super().__init__(color)\n",
        "    self.radius=radius\n",
        "  def area(self):\n",
        "    return 3.14 * self.radius * self.radius\n",
        "class Rectangle(Shape):\n",
        "  def __init__(self,width,height,color='white',rotation=0):\n",
        "    super().__init__(color)\n",
        "    self.width=width\n",
        "    self.height=height\n",
        "    self.rotation=rotation\n",
        "  def area(self):\n",
        "    return self.width * self.height\n",
        "\n",
        "#contoh penggunaan\n",
        "red_circle=Circle(5, 'red')\n",
        "rotated_rectangle=Rectangle(4,6,'blue',45)\n",
        "\n",
        "print('Luas Lingkaran', red_circle.area())\n",
        "print('Luas Peresgi Panjang ', rotated_rectangle.area())\n",
        "print('Warna Lingkaran ', red_circle.color)\n",
        "print('Rotasi Persegi Panjang: ', rotated_rectangle.rotation)\n"
      ],
      "metadata": {
        "colab": {
          "base_uri": "https://localhost:8080/"
        },
        "id": "VBUvX_1QglAL",
        "outputId": "13463625-4562-42f8-84e1-680a7c1dc68a"
      },
      "execution_count": null,
      "outputs": [
        {
          "output_type": "stream",
          "name": "stdout",
          "text": [
            "Luas Lingkaran 78.5\n",
            "Luas Peresgi Panjang  24\n",
            "Warna Lingkaran  red\n",
            "Rotasi Persegi Panjang:  45\n"
          ]
        }
      ]
    },
    {
      "cell_type": "markdown",
      "source": [
        "kelas Shape secara eksplisit ditandai sebagai kelas dasar abstrak (ABC), dan metode area ditandai sebagai metode abstrak dengan dekorator @abstractmethod. Hal ini memaksa bahwa setiap subclass dari Shape harus mengimplementasikan metode area. Ini mengilustrasikan konsep kelas abstrak dan polimorfisme ketika memanggil metode area pada objek bentuk yang berbeda."
      ],
      "metadata": {
        "id": "1MsSarW4iKgt"
      }
    },
    {
      "cell_type": "code",
      "source": [
        "class Project:\n",
        "    def __init__(self, name, start_date, end_date):\n",
        "        self.name = name\n",
        "        self.start_date = start_date\n",
        "        self.end_date = end_date\n",
        "        self.tasks = []\n",
        "\n",
        "    def add_task(self, task):\n",
        "        self.tasks.append(task)\n",
        "\n",
        "    def is_project_overdue(self):\n",
        "        return self.end_date < datetime.today()\n",
        "\n",
        "class Task:\n",
        "    def __init__(self, name, description, deadline):\n",
        "        self.name = name\n",
        "        self.description = description\n",
        "        self.deadline = deadline\n",
        "        self.status = \"In Progress\"\n",
        "\n",
        "    def mark_as_completed(self):\n",
        "        self.status = \"Completed\"\n",
        "\n",
        "from datetime import datetime\n",
        "\n",
        "# Contoh Penggunaan\n",
        "project1 = Project(\"Project X\", datetime(2023, 1, 1), datetime(2023, 12, 31))\n",
        "task1 = Task(\"Task 1\", \"Complete the analysis.\", datetime(2023, 4, 1))\n",
        "task2 = Task(\"Task 2\", \"Develop the prototype.\", datetime(2023, 8, 1))\n",
        "\n",
        "project1.add_task(task1)\n",
        "project1.add_task(task2)\n",
        "\n",
        "print(\"Proyek:\", project1.name)\n",
        "print(\"Daftar Tugas:\")\n",
        "for task in project1.tasks:\n",
        "    print(\"- Tugas:\", task.name)\n",
        "    print(\"  Status:\", task.status)\n",
        "print(\"Proyek Terlambat:\", project1.is_project_overdue())\n"
      ],
      "metadata": {
        "colab": {
          "base_uri": "https://localhost:8080/"
        },
        "id": "goEqOIIiiLBT",
        "outputId": "0cb5201b-4556-4f77-da12-7ccbb789a39b"
      },
      "execution_count": null,
      "outputs": [
        {
          "output_type": "stream",
          "name": "stdout",
          "text": [
            "Proyek: Project X\n",
            "Daftar Tugas:\n",
            "- Tugas: Task 1\n",
            "  Status: In Progress\n",
            "- Tugas: Task 2\n",
            "  Status: In Progress\n",
            "Proyek Terlambat: True\n"
          ]
        }
      ]
    },
    {
      "cell_type": "markdown",
      "source": [
        "TaskBase, yang berisi atribut dan metode umum yang digunakan oleh kelas Task dan Project. Ini mengilustrasikan konsep pewarisan. Selain itu, Anda memiliki polimorfisme ketika memanggil metode mark_as_completed pada objek Task dan Project."
      ],
      "metadata": {
        "id": "bB15QCMYiPPq"
      }
    },
    {
      "cell_type": "markdown",
      "source": [
        "Otomatisasi Model Basis Data dengan Metakelas dan Hubungan Entitas yang Rumit\n",
        "\n",
        "Tujuan: Menggunakan metakelas untuk otomatisasi model basis data dengan tambahan hubungan entitas seperti pengguna (User), produk (Product), dan pembelian (Purchase).\n",
        "Penjelasan: Dalam contoh ini, kita memperluas model basis data dengan menambahkan hubungan dan atribut tambahan antara entitas."
      ],
      "metadata": {
        "id": "bqwQxCqiiT-N"
      }
    },
    {
      "cell_type": "code",
      "source": [
        "class DatabaseModelMetaclass(type):\n",
        "    def __new__(cls, name, bases, attrs):\n",
        "        if name != 'BaseModel':\n",
        "            attrs['table_name'] = name.lower()\n",
        "        return super().__new__(cls, name, bases, attrs)\n",
        "\n",
        "class BaseModel(metaclass=DatabaseModelMetaclass):\n",
        "    def __init__(self, **kwargs):\n",
        "        for key, value in kwargs.items():\n",
        "            setattr(self, key, value)\n",
        "\n",
        "    def save(self):\n",
        "        # Simulasi penyimpanan data ke database\n",
        "        print(f\"Data {self} tersimpan di tabel {self.table_name}\")\n",
        "\n",
        "class User(BaseModel):\n",
        "    def __init__(self, username, email):\n",
        "        super().__init__(username=username, email=email)\n",
        "\n",
        "class Product(BaseModel):\n",
        "    def __init__(self, name, price):\n",
        "        super().__init__(name=name, price=price)\n",
        "\n",
        "class Purchase(BaseModel):\n",
        "    def __init__(self, user, product, quantity):\n",
        "        super().__init__(user=user, product=product, quantity=quantity)\n",
        "\n",
        "# Contoh Penggunaan\n",
        "user1 = User(\"alice\", \"alice@email.com\")\n",
        "product1 = Product(\"Product 1\", 100)\n",
        "purchase1 = Purchase(user1, product1, 3)\n",
        "\n",
        "user1.save()\n",
        "product1.save()\n",
        "purchase1.save()\n"
      ],
      "metadata": {
        "colab": {
          "base_uri": "https://localhost:8080/"
        },
        "id": "w9amn7bJiPu3",
        "outputId": "55d86cdc-6e83-40d3-86b9-bbdfc3dd1d54"
      },
      "execution_count": null,
      "outputs": [
        {
          "output_type": "stream",
          "name": "stdout",
          "text": [
            "Data <__main__.User object at 0x7bac574a23b0> tersimpan di tabel user\n",
            "Data <__main__.Product object at 0x7bac574a2ce0> tersimpan di tabel product\n",
            "Data <__main__.Purchase object at 0x7bac574a2920> tersimpan di tabel purchase\n"
          ]
        }
      ]
    },
    {
      "cell_type": "code",
      "source": [
        "from datetime import datetime\n",
        "\n",
        "class BaseModel:\n",
        "    data = []  # A list to simulate data storage\n",
        "\n",
        "    def __init__(self, **kwargs):\n",
        "        for key, value in kwargs.items():\n",
        "            setattr(self, key, value)\n",
        "\n",
        "    def save(self):\n",
        "        # Simulate saving data by appending it to the data list\n",
        "        self.__class__.data.append(self)\n",
        "\n",
        "    @classmethod\n",
        "    def filter(cls, **kwargs):\n",
        "        # Implement your data filtering logic here, for example:\n",
        "        filtered_data = []\n",
        "        for obj in cls.data:\n",
        "            matches_all = all(\n",
        "                hasattr(obj, key) and getattr(obj, key) == value for key, value in kwargs.items()\n",
        "            )\n",
        "            if matches_all:\n",
        "                filtered_data.append(obj)\n",
        "        return filtered_data\n",
        "\n",
        "class User(BaseModel):\n",
        "    def __init__(self, username, email):\n",
        "        super().__init__(username=username, email=email)\n",
        "\n",
        "class Product(BaseModel):\n",
        "    def __init__(self, name, price):\n",
        "        super().__init__(name=name, price=price)\n",
        "\n",
        "class Purchase(BaseModel):\n",
        "    def __init__(self, user, product, quantity, purchase_date):\n",
        "        super().__init__(user=user, product=product, quantity=quantity, purchase_date=purchase_date)\n",
        "\n",
        "# Contoh Penggunaan\n",
        "user1 = User(\"alice\", \"alice@email.com\")\n",
        "product1 = Product(\"Product 1\", 100)\n",
        "purchase1 = Purchase(user1, product1, 3, datetime(2023, 3, 15))\n",
        "purchase2 = Purchase(user1, product1, 2, datetime(2023, 4, 20))\n",
        "\n",
        "user1.save()\n",
        "product1.save()\n",
        "purchase1.save()\n",
        "purchase2.save()\n",
        "\n",
        "# Menampilkan Riwayat Pembelian\n",
        "print(f\"Riwayat Pembelian oleh {user1.username}:\")\n",
        "purchases_by_user1 = Purchase.filter(user=user1)\n",
        "for purchase in purchases_by_user1:\n",
        "    print(f\"- {purchase.product.name} ({purchase.quantity} pcs) pada {purchase.purchase_date}\")\n"
      ],
      "metadata": {
        "colab": {
          "base_uri": "https://localhost:8080/"
        },
        "id": "4bEe74fRicCT",
        "outputId": "f2515193-7ce3-4b94-c628-91700bbddbb2"
      },
      "execution_count": null,
      "outputs": [
        {
          "output_type": "stream",
          "name": "stdout",
          "text": [
            "Riwayat Pembelian oleh alice:\n",
            "- Product 1 (3 pcs) pada 2023-03-15 00:00:00\n",
            "- Product 1 (2 pcs) pada 2023-04-20 00:00:00\n"
          ]
        }
      ]
    }
  ]
}