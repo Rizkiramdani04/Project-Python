{
  "nbformat": 4,
  "nbformat_minor": 0,
  "metadata": {
    "colab": {
      "provenance": []
    },
    "kernelspec": {
      "name": "python3",
      "display_name": "Python 3"
    },
    "language_info": {
      "name": "python"
    }
  },
  "cells": [
    {
      "cell_type": "code",
      "execution_count": null,
      "metadata": {
        "id": "1Pwvdu4_CHHD"
      },
      "outputs": [],
      "source": []
    },
    {
      "cell_type": "markdown",
      "source": [
        "## SImple"
      ],
      "metadata": {
        "id": "PMbdbO2ECILZ"
      }
    },
    {
      "cell_type": "markdown",
      "source": [
        "###Contoh 1"
      ],
      "metadata": {
        "id": "J66v4eEzCJU6"
      }
    },
    {
      "cell_type": "code",
      "source": [
        "try:\n",
        "  age= int(input('Masukan Umur '))\n",
        "  print('Kamu memiliki {} umur'.format(age))\n",
        "except ValueError:\n",
        "  print('Invalid input.')"
      ],
      "metadata": {
        "colab": {
          "base_uri": "https://localhost:8080/"
        },
        "id": "zde8AjajCLVe",
        "outputId": "bdbb69f6-0367-4194-96d0-94f54649b1d0"
      },
      "execution_count": null,
      "outputs": [
        {
          "output_type": "stream",
          "name": "stdout",
          "text": [
            "Masukan Umur adddd\n",
            "Invalid input.\n"
          ]
        }
      ]
    },
    {
      "cell_type": "markdown",
      "source": [
        "### Contoh 2"
      ],
      "metadata": {
        "id": "Lv93UD77Ck_i"
      }
    },
    {
      "cell_type": "code",
      "source": [
        "try:\n",
        "  with open('nilai.txt','r') as file:\n",
        "    content=file.read()\n",
        "    print(content)\n",
        "except FileNotFoundError:\n",
        "  print(\"File Tidak Ada\")"
      ],
      "metadata": {
        "colab": {
          "base_uri": "https://localhost:8080/"
        },
        "id": "TkyThxraCmQ0",
        "outputId": "0cad3052-1891-4400-963b-e597a1257887"
      },
      "execution_count": null,
      "outputs": [
        {
          "output_type": "stream",
          "name": "stdout",
          "text": [
            "File Tidak Ada\n"
          ]
        }
      ]
    },
    {
      "cell_type": "markdown",
      "source": [
        "### Contoh 3"
      ],
      "metadata": {
        "id": "_mpALIL7C3Um"
      }
    },
    {
      "cell_type": "markdown",
      "source": [
        "## Intermediate"
      ],
      "metadata": {
        "id": "iO0zGRNDD7Fu"
      }
    },
    {
      "cell_type": "markdown",
      "source": [
        "### Contoh 1"
      ],
      "metadata": {
        "id": "tIzKfVemD88_"
      }
    },
    {
      "cell_type": "code",
      "source": [
        "def divide_number(a,b):\n",
        "  try:\n",
        "    results=a/b\n",
        "    return results\n",
        "  except ZeroDivisionError:\n",
        "    return \"Division\"\n",
        "result=divide_number(100,4)\n",
        "print(\"Results \", result)"
      ],
      "metadata": {
        "colab": {
          "base_uri": "https://localhost:8080/"
        },
        "id": "BK9aXTviD-Jd",
        "outputId": "e79bc2c5-b501-437b-f102-19c275d594a6"
      },
      "execution_count": null,
      "outputs": [
        {
          "output_type": "stream",
          "name": "stdout",
          "text": [
            "Results  25.0\n"
          ]
        }
      ]
    },
    {
      "cell_type": "code",
      "source": [
        "def read_file_content(filename):\n",
        "    try:\n",
        "        with open(filename, \"r\") as file:\n",
        "            content = file.read()\n",
        "            return content\n",
        "    except FileNotFoundError:\n",
        "        return \"File not found.\"\n",
        "\n",
        "content = read_file_content(\"non_existent_file.txt\")\n",
        "print(\"File Content:\", content)\n"
      ],
      "metadata": {
        "colab": {
          "base_uri": "https://localhost:8080/"
        },
        "id": "81QIPiEwEX-v",
        "outputId": "042db022-45a6-4f57-b8ba-c4f546fdddf0"
      },
      "execution_count": null,
      "outputs": [
        {
          "output_type": "stream",
          "name": "stdout",
          "text": [
            "File Content: File not found.\n"
          ]
        }
      ]
    },
    {
      "cell_type": "markdown",
      "source": [
        "## Advanced"
      ],
      "metadata": {
        "id": "8MDccW4WEbLD"
      }
    },
    {
      "cell_type": "markdown",
      "source": [
        "### Contoh 1"
      ],
      "metadata": {
        "id": "aYPy29msEcxp"
      }
    },
    {
      "cell_type": "code",
      "source": [
        "import json\n",
        "\n",
        "\n",
        "# [\n",
        "# \t{\n",
        "# \t\t\"name\": \"Laura Harper\",\n",
        "# \t\t\"equip_id\" \"309\"\n",
        "# \t}\n",
        "# ]\n",
        "\n",
        "def read_json_file(filename):\n",
        "    try:\n",
        "        with open(filename, \"r\") as file:\n",
        "            data = json.load(file)\n",
        "            return data\n",
        "    except FileNotFoundError:\n",
        "        return \"File not found.\"\n",
        "    except json.JSONDecodeError as e:\n",
        "        return f\"JSON decoding error: {str(e)}\"\n",
        "\n",
        "filename = \"invalid_data.json\"\n",
        "result = read_json_file(filename)\n",
        "print(\"Data:\", result)\n"
      ],
      "metadata": {
        "colab": {
          "base_uri": "https://localhost:8080/"
        },
        "id": "IgtZZ41nEd1h",
        "outputId": "d0307a3d-7abf-4961-c383-73c07f5c7503"
      },
      "execution_count": null,
      "outputs": [
        {
          "output_type": "stream",
          "name": "stdout",
          "text": [
            "Data: File not found.\n"
          ]
        }
      ]
    },
    {
      "cell_type": "code",
      "source": [
        "class CustomException(Exception):\n",
        "    def __init__(self, message):\n",
        "        super().__init__(message)\n",
        "\n",
        "try:\n",
        "    age = int(input(\"Enter your age: \"))\n",
        "    if age < 0:\n",
        "        raise CustomException(\"Age cannot be negative.\")\n",
        "    print(\"You are {} years old.\".format(age))\n",
        "except ValueError:\n",
        "    print(\"Invalid input. Please enter a valid integer for your age.\")\n",
        "except CustomException as ce:\n",
        "    print(\"Custom Exception:\", ce)\n"
      ],
      "metadata": {
        "colab": {
          "base_uri": "https://localhost:8080/"
        },
        "id": "xJPrSkW_EiDZ",
        "outputId": "7271d92f-a5e5-4f95-e858-92c069b0a753"
      },
      "execution_count": null,
      "outputs": [
        {
          "output_type": "stream",
          "name": "stdout",
          "text": [
            "Enter your age: 21\n",
            "You are 21 years old.\n"
          ]
        }
      ]
    }
  ]
}