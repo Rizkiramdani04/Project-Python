{
  "nbformat": 4,
  "nbformat_minor": 0,
  "metadata": {
    "colab": {
      "provenance": []
    },
    "kernelspec": {
      "name": "python3",
      "display_name": "Python 3"
    },
    "language_info": {
      "name": "python"
    }
  },
  "cells": [
    {
      "cell_type": "markdown",
      "source": [
        "## Penamaan Variable"
      ],
      "metadata": {
        "id": "1_F_RpJYtc3l"
      }
    },
    {
      "cell_type": "markdown",
      "source": [
        "### Keyword Python"
      ],
      "metadata": {
        "id": "5XxwMsV6tjLo"
      }
    },
    {
      "cell_type": "markdown",
      "source": [
        "## Tipe Data"
      ],
      "metadata": {
        "id": "JgZ7JcOqAk6F"
      }
    },
    {
      "cell_type": "markdown",
      "source": [
        "### Number"
      ],
      "metadata": {
        "id": "_flSWw63AobF"
      }
    },
    {
      "cell_type": "markdown",
      "source": [
        "#### Integer"
      ],
      "metadata": {
        "id": "E8oenyWZAtKK"
      }
    },
    {
      "cell_type": "code",
      "source": [
        "integer =20\n",
        "print(f'Nilai variabel integer: {integer}\\n')\n",
        "nilai = 30 + integer\n",
        "print(f'Nilai variabel nilai: {nilai}')"
      ],
      "metadata": {
        "colab": {
          "base_uri": "https://localhost:8080/"
        },
        "id": "pUTS6FgxAxjt",
        "outputId": "adc0f039-9655-4907-9034-cbc42e2cf057"
      },
      "execution_count": null,
      "outputs": [
        {
          "output_type": "stream",
          "name": "stdout",
          "text": [
            "Nilai variabel integer: 20\n",
            "\n",
            "Nilai variabel nilai: 50\n"
          ]
        }
      ]
    },
    {
      "cell_type": "code",
      "source": [
        "nilai_1=1\n",
        "print(nilai_1)"
      ],
      "metadata": {
        "colab": {
          "base_uri": "https://localhost:8080/"
        },
        "id": "xYihi7N9kC6q",
        "outputId": "169fffb7-476f-4960-bffa-ddf3a72a263f"
      },
      "execution_count": null,
      "outputs": [
        {
          "output_type": "stream",
          "name": "stdout",
          "text": [
            "1\n"
          ]
        }
      ]
    },
    {
      "cell_type": "markdown",
      "source": [
        "#### Float"
      ],
      "metadata": {
        "id": "0QeLrMwwBw5z"
      }
    },
    {
      "cell_type": "code",
      "source": [
        "float = 12.3\n",
        "print(f'Nilai Variabel float: {float}\\n')\n",
        "nilai_2=2.1\n",
        "print(f'Nilai Variabel nilai_2: {nilai_2}')"
      ],
      "metadata": {
        "colab": {
          "base_uri": "https://localhost:8080/"
        },
        "id": "NNITTpFMBydi",
        "outputId": "d5e4572a-3e12-4fae-a215-6eeeb6f8da2e"
      },
      "execution_count": null,
      "outputs": [
        {
          "output_type": "stream",
          "name": "stdout",
          "text": [
            "Nilai Variabel float: 12.3\n",
            "\n",
            "Nilai Variabel nilai_2: 2.1\n"
          ]
        }
      ]
    },
    {
      "cell_type": "markdown",
      "source": [
        "### Teks"
      ],
      "metadata": {
        "id": "HvT6hsfDE3BW"
      }
    },
    {
      "cell_type": "code",
      "source": [
        "string ='Hai Perkenalkan Nama Saya Rojak\\n'\n",
        "print(string)\n",
        "string_2='Hai Perkenalkan Nama Saya Furqon\\n'\n",
        "print(string_2)\n",
        "string_3=\"\"\"Hai\n",
        "Perkenalkan\n",
        "Nama Saya Asep\"\"\"\n",
        "print(string_3)"
      ],
      "metadata": {
        "colab": {
          "base_uri": "https://localhost:8080/"
        },
        "id": "NqKsqWCXE4ej",
        "outputId": "e3c26421-5f42-4745-cbcc-3baa1835f85a"
      },
      "execution_count": null,
      "outputs": [
        {
          "output_type": "stream",
          "name": "stdout",
          "text": [
            "Hai Perkenalkan Nama Saya Rojak\n",
            "\n",
            "Hai Perkenalkan Nama Saya Furqon\n",
            "\n",
            "Hai\n",
            "Perkenalkan \n",
            "Nama Saya Asep\n"
          ]
        }
      ]
    },
    {
      "cell_type": "markdown",
      "source": [
        "## Strukture Data"
      ],
      "metadata": {
        "id": "R-3IMXvVwz_E"
      }
    },
    {
      "cell_type": "markdown",
      "source": [
        "### Lists"
      ],
      "metadata": {
        "id": "_rqUISJmw4Ac"
      }
    },
    {
      "cell_type": "code",
      "execution_count": null,
      "metadata": {
        "colab": {
          "base_uri": "https://localhost:8080/"
        },
        "id": "Y2kf0SsgwqPV",
        "outputId": "e657955c-2e96-4eb8-8114-02dea4d4f40a"
      },
      "outputs": [
        {
          "output_type": "stream",
          "name": "stdout",
          "text": [
            "[]\n",
            "['Rizki', True, 0.6, 1]\n"
          ]
        }
      ],
      "source": [
        "#membuat list\n",
        "my_list=[]\n",
        "#memunculkan list\n",
        "print(my_list)\n",
        "#menambahkan value\n",
        "my_list=['Rizki',True,0.6,1]\n",
        "#menampilkan list yang sudah di tambahkan\n",
        "print(my_list)"
      ]
    },
    {
      "cell_type": "markdown",
      "source": [
        "### Dictionary"
      ],
      "metadata": {
        "id": "ylcw5GcDxPCU"
      }
    },
    {
      "cell_type": "code",
      "source": [
        "#membuat dictionary\n",
        "dictionary={}\n",
        "#memunculkan dictionary\n",
        "print(dictionary)\n",
        "#menambahkan nilai ke dictionary\n",
        "dictionary={1:'Rizki',2:'Ramdani'}\n",
        "#menunculkan hasil\n",
        "print(dictionary)\n",
        "#mengganti nilai\n",
        "dictionary[1]='Rohman'\n",
        "#memunculkan hasil\n",
        "print(dictionary)\n",
        "#menambahn value baru\n",
        "dictionary[3]='Saepudin'\n",
        "#memunculkan nilai\n",
        "print(dictionary)"
      ],
      "metadata": {
        "colab": {
          "base_uri": "https://localhost:8080/"
        },
        "id": "WWvop49RxQp8",
        "outputId": "90b30da8-faf6-4032-aab5-2692778af0d3"
      },
      "execution_count": null,
      "outputs": [
        {
          "output_type": "stream",
          "name": "stdout",
          "text": [
            "{}\n",
            "{1: 'Rizki', 2: 'Ramdani'}\n",
            "{1: 'Rohman', 2: 'Ramdani'}\n",
            "{1: 'Rohman', 2: 'Ramdani', 3: 'Saepudin'}\n"
          ]
        }
      ]
    },
    {
      "cell_type": "markdown",
      "source": [
        "### Tuple"
      ],
      "metadata": {
        "id": "H2t_hAucx4CQ"
      }
    },
    {
      "cell_type": "code",
      "source": [
        "#membuat tuple\n",
        "tuple=()\n",
        "#menampilkan tuple\n",
        "print(tuple)\n",
        "#menambah\n",
        "tuple=(1,2,True,'Rizal')\n",
        "#menampilkan\n",
        "print(tuple)\n",
        "#memunculkan nilai tuple index 2\n",
        "print(tuple[2])#memunculkan nilai True\n",
        "#memunculkan semua nilai\n",
        "print(tuple[:])\n",
        "#memunculkan index 4 dengan nilai ke 3\n",
        "print(tuple[3][3])"
      ],
      "metadata": {
        "colab": {
          "base_uri": "https://localhost:8080/"
        },
        "id": "7VzWYQBQx5RG",
        "outputId": "cc0d64ec-16b4-4faf-ad2e-f91e650a82c1"
      },
      "execution_count": null,
      "outputs": [
        {
          "output_type": "stream",
          "name": "stdout",
          "text": [
            "()\n",
            "(1, 2, True, 'Rizal')\n",
            "True\n",
            "(1, 2, True, 'Rizal')\n",
            "a\n"
          ]
        }
      ]
    },
    {
      "cell_type": "markdown",
      "source": [
        "### Sets"
      ],
      "metadata": {
        "id": "LDCt7QSRyk0z"
      }
    },
    {
      "cell_type": "code",
      "source": [
        "#membuat set\n",
        "sets={}\n",
        "#menampilkan\n",
        "print(sets)\n",
        "#menambah nilai\n",
        "sets={1,2,3,4,5,6,7}\n",
        "#menampilkan\n",
        "print(sets)\n",
        "#menambahkakn lagi\n",
        "sets.add(3)\n",
        "print(sets)\n",
        "#ketika ada nilai yang duplikat maka tidak bisa masuk"
      ],
      "metadata": {
        "colab": {
          "base_uri": "https://localhost:8080/"
        },
        "id": "9JX8DG95ymTn",
        "outputId": "a2a107b0-99b0-49a5-fb7d-d7f70e66bae6"
      },
      "execution_count": null,
      "outputs": [
        {
          "output_type": "stream",
          "name": "stdout",
          "text": [
            "{}\n",
            "{1, 2, 3, 4, 5, 6, 7}\n",
            "{1, 2, 3, 4, 5, 6, 7}\n"
          ]
        }
      ]
    },
    {
      "cell_type": "markdown",
      "source": [
        "## Conditional Statement"
      ],
      "metadata": {
        "id": "H70MdCGhzeRx"
      }
    },
    {
      "cell_type": "markdown",
      "source": [
        "### If Statement"
      ],
      "metadata": {
        "id": "SmJO0reYzhAw"
      }
    },
    {
      "cell_type": "code",
      "source": [
        "nilai = 12\n",
        "if nilai > 11:\n",
        "  print(\"Nilai lebih dari 11\")"
      ],
      "metadata": {
        "colab": {
          "base_uri": "https://localhost:8080/"
        },
        "id": "SJBon-X9zjNJ",
        "outputId": "b0e6d4c2-b48d-461e-9578-779e56863a81"
      },
      "execution_count": null,
      "outputs": [
        {
          "output_type": "stream",
          "name": "stdout",
          "text": [
            "Nilai lebih dari 11\n"
          ]
        }
      ]
    },
    {
      "cell_type": "markdown",
      "source": [
        "### If Else Statement"
      ],
      "metadata": {
        "id": "LwLN2uFiz0-H"
      }
    },
    {
      "cell_type": "code",
      "source": [
        "nilai = 10\n",
        "if nilai <=9:\n",
        "  print('Maka Nilai Kamu masih kurang')\n",
        "else:\n",
        "  print('Nilai Kamu Sudah Bagus')"
      ],
      "metadata": {
        "colab": {
          "base_uri": "https://localhost:8080/"
        },
        "id": "92Nmq4hwz40R",
        "outputId": "108d4a86-334c-40ba-e75e-b2fefc7a19eb"
      },
      "execution_count": null,
      "outputs": [
        {
          "output_type": "stream",
          "name": "stdout",
          "text": [
            "Nilai Kamu Sudah Bagus\n"
          ]
        }
      ]
    },
    {
      "cell_type": "markdown",
      "source": [
        "### If elif Else Statement"
      ],
      "metadata": {
        "id": "TpTbA4C70M0Z"
      }
    },
    {
      "cell_type": "code",
      "source": [
        "nilai = 25\n",
        "if nilai ==30:\n",
        "  print('Nilai Kamu Sama dengan 30')\n",
        "elif nilai >=20:\n",
        "  print('Nilai Kamu Sudah cukup bagus')\n",
        "else:\n",
        "  print('coba lagi di lain hari')"
      ],
      "metadata": {
        "colab": {
          "base_uri": "https://localhost:8080/"
        },
        "id": "5e41rXal0Qfc",
        "outputId": "d96fbd66-7cd6-4e82-c3ec-a8385584b9fd"
      },
      "execution_count": null,
      "outputs": [
        {
          "output_type": "stream",
          "name": "stdout",
          "text": [
            "Nilai Kamu Sudah cukup bagus\n"
          ]
        }
      ]
    },
    {
      "cell_type": "markdown",
      "source": [
        "### If Nested"
      ],
      "metadata": {
        "id": "jkO_GIRV00Ap"
      }
    },
    {
      "cell_type": "code",
      "source": [
        "nilai =10\n",
        "if nilai >=10:\n",
        "  if nilai >10:\n",
        "    print('Tinggi')\n",
        "  else:\n",
        "    print('Mantap')\n",
        "else:\n",
        "   print('kureng')"
      ],
      "metadata": {
        "colab": {
          "base_uri": "https://localhost:8080/"
        },
        "id": "xV9JzxVD0161",
        "outputId": "09de9b85-c985-4d27-e428-bbd042d74da2"
      },
      "execution_count": null,
      "outputs": [
        {
          "output_type": "stream",
          "name": "stdout",
          "text": [
            "Mantap\n"
          ]
        }
      ]
    },
    {
      "cell_type": "markdown",
      "source": [
        "## Looping"
      ],
      "metadata": {
        "id": "hFBnt9SQ1UZr"
      }
    },
    {
      "cell_type": "markdown",
      "source": [
        "### While Loop"
      ],
      "metadata": {
        "id": "2gd3EAb81X7x"
      }
    },
    {
      "cell_type": "code",
      "source": [
        "# While Loop\n",
        "num = 1\n",
        "odd_nums = []\n",
        "while num:\n",
        "    if num % 2 != 0:\n",
        "        odd_nums.append(num)\n",
        "    if num >=20:\n",
        "        break\n",
        "    num += 1\n",
        "print(\"Odd numbers: \", odd_nums)"
      ],
      "metadata": {
        "colab": {
          "base_uri": "https://localhost:8080/"
        },
        "id": "yoszIxCP1aJP",
        "outputId": "eff48b31-9a0a-40ce-96de-7198f44daf67"
      },
      "execution_count": null,
      "outputs": [
        {
          "output_type": "stream",
          "name": "stdout",
          "text": [
            "Odd numbers:  [1, 3, 5, 7, 9, 11, 13, 15, 17, 19]\n"
          ]
        }
      ]
    },
    {
      "cell_type": "markdown",
      "source": [
        "### For Loop"
      ],
      "metadata": {
        "id": "zk8ikLMP1xkb"
      }
    },
    {
      "cell_type": "code",
      "source": [
        "dictionary\n",
        "for num in dictionary:\n",
        "  print(num)"
      ],
      "metadata": {
        "colab": {
          "base_uri": "https://localhost:8080/"
        },
        "id": "CVK2INHB1zRU",
        "outputId": "aaae4382-bf3c-4679-8fee-8db4a1166c0b"
      },
      "execution_count": null,
      "outputs": [
        {
          "output_type": "stream",
          "name": "stdout",
          "text": [
            "1\n",
            "2\n",
            "3\n"
          ]
        }
      ]
    },
    {
      "cell_type": "markdown",
      "source": [
        "## Function"
      ],
      "metadata": {
        "id": "0InRBIo82OVO"
      }
    },
    {
      "cell_type": "code",
      "source": [
        "def nilai(a):\n",
        "  print(a*2)\n",
        "\n",
        "nilai(3)"
      ],
      "metadata": {
        "colab": {
          "base_uri": "https://localhost:8080/"
        },
        "id": "a_XWlMUq2Qjw",
        "outputId": "36cc94b9-06ec-431b-c482-78aadcf7da34"
      },
      "execution_count": null,
      "outputs": [
        {
          "output_type": "stream",
          "name": "stdout",
          "text": [
            "6\n"
          ]
        }
      ]
    },
    {
      "cell_type": "code",
      "source": [
        "def greet(name):\n",
        "  'yang memiliki nilai sama dengan'\n",
        "  print(f'Hai Perkenalkan nama saya {name} saya Kuliah di Stmik Ikmi Cirebon')\n",
        "greet('Rizki Ramdani')"
      ],
      "metadata": {
        "colab": {
          "base_uri": "https://localhost:8080/"
        },
        "id": "54x9OKNCeINl",
        "outputId": "1e6af1c4-0933-4421-b6cb-9652156ccc10"
      },
      "execution_count": null,
      "outputs": [
        {
          "output_type": "stream",
          "name": "stdout",
          "text": [
            "Hai Perkenalkan nama saya Rizki Ramdani saya Kuliah di Stmik Ikmi Cirebon\n"
          ]
        }
      ]
    },
    {
      "cell_type": "markdown",
      "source": [
        "### Function Arguments"
      ],
      "metadata": {
        "id": "GHa3auGTehLr"
      }
    },
    {
      "cell_type": "code",
      "source": [
        "#yang membawa nilai bawaan\n",
        "def nama(awal,akhiran='Ramdani'):\n",
        "  print(f'Hallo Perkenalkan nama saya {awal}, saya sedang bersama teman saya {akhiran}')\n",
        "nama('Rohman')"
      ],
      "metadata": {
        "colab": {
          "base_uri": "https://localhost:8080/"
        },
        "id": "ZTyecXCgejSg",
        "outputId": "b73be3af-933c-4ed8-b587-13058721ed20"
      },
      "execution_count": null,
      "outputs": [
        {
          "output_type": "stream",
          "name": "stdout",
          "text": [
            "Hallo Perkenalkan nama saya Rohman, saya sedang bersama teman saya Ramdani\n"
          ]
        }
      ]
    },
    {
      "cell_type": "code",
      "source": [
        "#yang membawa nilai bawaan\n",
        "def nama(awal,akhiran='Ramdani'):\n",
        "  print(f'Hallo Perkenalkan nama saya {awal}, saya sedang bersama teman saya {akhiran}')\n",
        "#ketika value kedua tidak dimasukan akan otomatis diisi nilai default\n",
        "nama('Rohman')\n",
        "#ketika sudah memiliki value value bawaan akan digantikan\n",
        "nama('Rohamurmuzy','Prabowo')"
      ],
      "metadata": {
        "colab": {
          "base_uri": "https://localhost:8080/"
        },
        "id": "Ad3_KP7QfA8M",
        "outputId": "a3ed4858-2eac-4cc7-ebbe-328bce869496"
      },
      "execution_count": null,
      "outputs": [
        {
          "output_type": "stream",
          "name": "stdout",
          "text": [
            "Hallo Perkenalkan nama saya Rohman, saya sedang bersama teman saya Ramdani\n",
            "Hallo Perkenalkan nama saya Rohamurmuzy, saya sedang bersama teman saya Prabowo\n"
          ]
        }
      ]
    },
    {
      "cell_type": "code",
      "source": [
        "def nilai(nama,*nilai):\n",
        "  for hasil in nilai:\n",
        "    print(f'Hallo Nama saya {nama} dan saya memiliki nilai {hasil}')\n",
        "nilai('Rahmad',91,92,93)"
      ],
      "metadata": {
        "colab": {
          "base_uri": "https://localhost:8080/"
        },
        "id": "e7zjZf9pfP19",
        "outputId": "bd13b1a3-7ff4-42b6-ec1d-f57ec5849fd1"
      },
      "execution_count": null,
      "outputs": [
        {
          "output_type": "stream",
          "name": "stdout",
          "text": [
            "Hallo Nama saya Rahmad dan saya memiliki nilai 91\n",
            "Hallo Nama saya Rahmad dan saya memiliki nilai 92\n",
            "Hallo Nama saya Rahmad dan saya memiliki nilai 93\n"
          ]
        }
      ]
    }
  ]
}