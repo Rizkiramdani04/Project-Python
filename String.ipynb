{
  "nbformat": 4,
  "nbformat_minor": 0,
  "metadata": {
    "colab": {
      "provenance": []
    },
    "kernelspec": {
      "name": "python3",
      "display_name": "Python 3"
    },
    "language_info": {
      "name": "python"
    }
  },
  "cells": [
    {
      "cell_type": "markdown",
      "source": [
        "## String"
      ],
      "metadata": {
        "id": "_OKFSMoXVsYU"
      }
    },
    {
      "cell_type": "code",
      "execution_count": null,
      "metadata": {
        "colab": {
          "base_uri": "https://localhost:8080/",
          "height": 35
        },
        "id": "O90f8_QKVdCn",
        "outputId": "2a6c8d13-4f36-4744-e707-d2583f9fcbc4"
      },
      "outputs": [
        {
          "output_type": "execute_result",
          "data": {
            "text/plain": [
              "'Rizki Ramdani'"
            ],
            "application/vnd.google.colaboratory.intrinsic+json": {
              "type": "string"
            }
          },
          "metadata": {},
          "execution_count": 1
        }
      ],
      "source": [
        "\"Rizki Ramdani\" or 'Rahmat'"
      ]
    },
    {
      "cell_type": "code",
      "source": [
        "#ingin memunculkan teks di index 6\n",
        "print('Saya Kuliah Di STMIK IKMI Cirebon'[6])\n",
        "#ingin memunculkan teks ke dua terakhir\n",
        "print('Saya Kuliah Di STMIK IKMI Cirebon'[-2])"
      ],
      "metadata": {
        "colab": {
          "base_uri": "https://localhost:8080/"
        },
        "id": "nBTAceu7V2NE",
        "outputId": "8d07fa0e-0800-41fc-c498-98eb9a17dd7c"
      },
      "execution_count": null,
      "outputs": [
        {
          "output_type": "stream",
          "name": "stdout",
          "text": [
            "u\n",
            "o\n"
          ]
        }
      ]
    },
    {
      "cell_type": "markdown",
      "source": [
        "## Membuat String"
      ],
      "metadata": {
        "id": "6qR9Yl7BWKSf"
      }
    },
    {
      "cell_type": "code",
      "source": [
        "#bisa menggunakan kutip satu(')\n",
        "kuting_satu='Ini Kutip Satu\\n'\n",
        "print(kuting_satu)\n",
        "#\\n berguna untuk mengenter baris baru\n",
        "kutp_dua='Ini Kutip Dua\\n'\n",
        "print(kutp_dua)\n",
        "###Triple Quotes\n",
        "kutip_tiga=\"\"\"ROhamhizaki\"\"\"\n",
        "print(kutip_tiga)\n",
        "#menambahkan tanda kutip di dalam teks\n",
        "tambah_kutip=\"ha'i nama saya amar\"\n",
        "print(tambah_kutip)\n"
      ],
      "metadata": {
        "colab": {
          "base_uri": "https://localhost:8080/"
        },
        "id": "53mn5fINWLux",
        "outputId": "fabff9be-4faa-4c18-f167-0b49fcd7954d"
      },
      "execution_count": null,
      "outputs": [
        {
          "output_type": "stream",
          "name": "stdout",
          "text": [
            "Ini Kutip Satu\n",
            "\n",
            "Ini Kutip Dua\n",
            "\n",
            "ROhamhizaki\n",
            "ha'i nama saya amar\n"
          ]
        }
      ]
    },
    {
      "cell_type": "markdown",
      "source": [
        "## Acces Charakter dalam python"
      ],
      "metadata": {
        "id": "Nqp4cidPW8Do"
      }
    },
    {
      "cell_type": "code",
      "source": [
        "string1='MySkill'\n",
        "print(string1)\n",
        "#memunculkan index pertama\n",
        "print(string1[0])\n",
        "#memunculkan index terakhir\n",
        "print(string1[-1])"
      ],
      "metadata": {
        "colab": {
          "base_uri": "https://localhost:8080/"
        },
        "id": "8BoGcJgLXFiO",
        "outputId": "1e4ca93f-7f94-44e6-df5b-c250bd2339c6"
      },
      "execution_count": null,
      "outputs": [
        {
          "output_type": "stream",
          "name": "stdout",
          "text": [
            "MySkill\n",
            "M\n",
            "l\n"
          ]
        }
      ]
    },
    {
      "cell_type": "markdown",
      "source": [
        "## Reverse String"
      ],
      "metadata": {
        "id": "m_i-rXcWXYW_"
      }
    },
    {
      "cell_type": "markdown",
      "source": [
        "Dengan Mengakses Karakter dari sebuah string, kita juga dapat membalikkannya. Kita dapat Membalikkan string dengan menulis [::-1] dan string akan dibalik."
      ],
      "metadata": {
        "id": "BXUF6TB_XZ4l"
      }
    },
    {
      "cell_type": "code",
      "source": [
        "#membalikan teks\n",
        "rizki='Rizki Ramdani Wibowo'\n",
        "print(rizki[::-1])"
      ],
      "metadata": {
        "colab": {
          "base_uri": "https://localhost:8080/"
        },
        "id": "IB_-YEZhXeHs",
        "outputId": "c742a63b-1c3a-4b3d-f847-86f5b7d9158f"
      },
      "execution_count": null,
      "outputs": [
        {
          "output_type": "stream",
          "name": "stdout",
          "text": [
            "owobiW inadmaR ikziR\n"
          ]
        }
      ]
    },
    {
      "cell_type": "markdown",
      "source": [
        "## Slicing Karakter"
      ],
      "metadata": {
        "id": "cyAtKUCSXsqj"
      }
    },
    {
      "cell_type": "code",
      "source": [
        "# berawal dari index 1 sampai 5\n",
        "nilai='Rizki Ramdani Semoga Sukses'\n",
        "print(nilai[1:5])\n",
        "#memunculkan semua nilai setelah index 3\n",
        "print(nilai[3:])"
      ],
      "metadata": {
        "colab": {
          "base_uri": "https://localhost:8080/"
        },
        "id": "s2z3idX5XuCo",
        "outputId": "d565926f-7fd5-4af1-a99b-522700ca102c"
      },
      "execution_count": null,
      "outputs": [
        {
          "output_type": "stream",
          "name": "stdout",
          "text": [
            "izki\n",
            "ki Ramdani Semoga Sukses\n"
          ]
        }
      ]
    },
    {
      "cell_type": "markdown",
      "source": [
        "## Delete and Update String"
      ],
      "metadata": {
        "id": "6D0VS5QjYCyB"
      }
    },
    {
      "cell_type": "markdown",
      "source": [
        "### Update Charakter"
      ],
      "metadata": {
        "id": "CV_nXKzfYF5S"
      }
    },
    {
      "cell_type": "code",
      "source": [
        "# Python Program to Update\n",
        "# character of a String\n",
        "\n",
        "String1 = \"ADITIA PRAMANA PUTRA\"\n",
        "print(\"Initial String: \")\n",
        "print(String1)\n",
        "\n",
        "# Updating a character of the String\n",
        "## As python strings are immutable, they don't support item updation directly\n",
        "### there are following two ways\n",
        "#1\n",
        "list1 = list(String1)\n",
        "list1[4] = 'Y'\n",
        "String2 = ''.join(list1)\n",
        "print(\"\\nUpdating character at 2nd Index: \")\n",
        "print(String2)\n",
        "\n",
        "#2\n",
        "String3 = String1[0:4] + 'Y' + String1[5:]\n",
        "print(String3)\n"
      ],
      "metadata": {
        "colab": {
          "base_uri": "https://localhost:8080/"
        },
        "id": "twS2sl7JYHXx",
        "outputId": "aa7382c3-9359-4136-8fd5-080f44f687ea"
      },
      "execution_count": null,
      "outputs": [
        {
          "output_type": "stream",
          "name": "stdout",
          "text": [
            "Initial String: \n",
            "ADITIA PRAMANA PUTRA\n",
            "\n",
            "Updating character at 2nd Index: \n",
            "ADITYA PRAMANA PUTRA\n",
            "ADITYA PRAMANA PUTRA\n"
          ]
        }
      ]
    },
    {
      "cell_type": "markdown",
      "source": [
        "## Formatting in String"
      ],
      "metadata": {
        "id": "UHWnRdwFYR7-"
      }
    },
    {
      "cell_type": "code",
      "source": [
        "string='{} {}{}'.format('Rizki','Ramdani','S.Kom')\n",
        "print(string)\n",
        "#mengaturnya\n",
        "nama='{1}{2}{0}'.format('Mereka','Sudah','Terbiasa')\n",
        "print(nama)"
      ],
      "metadata": {
        "colab": {
          "base_uri": "https://localhost:8080/"
        },
        "id": "EiIX1panYUAg",
        "outputId": "1f140f96-fc78-48ad-c12a-0e18fb288cc8"
      },
      "execution_count": null,
      "outputs": [
        {
          "output_type": "stream",
          "name": "stdout",
          "text": [
            "Rizki RamdaniS.Kom\n",
            "SudahTerbiasaMereka\n"
          ]
        }
      ]
    }
  ]
}