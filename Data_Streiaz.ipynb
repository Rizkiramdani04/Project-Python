{
  "nbformat": 4,
  "nbformat_minor": 0,
  "metadata": {
    "colab": {
      "provenance": []
    },
    "kernelspec": {
      "name": "python3",
      "display_name": "Python 3"
    },
    "language_info": {
      "name": "python"
    }
  },
  "cells": [
    {
      "cell_type": "code",
      "execution_count": null,
      "metadata": {
        "id": "_QyqZkL7CrnR"
      },
      "outputs": [],
      "source": []
    },
    {
      "cell_type": "markdown",
      "source": [
        "## Simple"
      ],
      "metadata": {
        "id": "jchz2xonCsb1"
      }
    },
    {
      "cell_type": "code",
      "source": [
        "import json\n",
        "\n",
        "data = {'nama': 'Alice', 'usia': 30, 'kota': 'Jakarta'}\n",
        "\n",
        "# Serialisasi ke JSON\n",
        "json_data = json.dumps(data, indent=4)\n",
        "\n",
        "# Menyimpan ke file JSON\n",
        "with open('data.json', 'w') as file:\n",
        "    file.write(json_data)\n",
        "\n",
        "# Deserialisasi dari JSON\n",
        "with open('data.json', 'r') as file:\n",
        "    loaded_data = json.load(file)\n",
        "\n",
        "print(loaded_data)\n"
      ],
      "metadata": {
        "colab": {
          "base_uri": "https://localhost:8080/"
        },
        "id": "GuFC4uskCtcw",
        "outputId": "4f9c9d72-1198-4d73-8b0e-53174a7ab22a"
      },
      "execution_count": null,
      "outputs": [
        {
          "output_type": "stream",
          "name": "stdout",
          "text": [
            "{'nama': 'Alice', 'usia': 30, 'kota': 'Jakarta'}\n"
          ]
        }
      ]
    },
    {
      "cell_type": "markdown",
      "source": [
        "Kami mengambil kamus data, mengonversinya menjadi JSON, dan menyimpannya dalam file JSON. Kemudian, kami membaca file JSON dan mendeserialisasikan datanya kembali ke dalam kamus."
      ],
      "metadata": {
        "id": "ufOsnPg_CwAO"
      }
    },
    {
      "cell_type": "code",
      "source": [],
      "metadata": {
        "id": "tt6shiERCwYc"
      },
      "execution_count": null,
      "outputs": []
    },
    {
      "cell_type": "code",
      "source": [
        "import json\n",
        "\n",
        "data = {'nama': 'Alice', 'hobi': ['berenang', 'membaca', 'berkebun']}\n",
        "\n",
        "# Serialisasi ke JSON\n",
        "json_data = json.dumps(data, indent=4)\n",
        "\n",
        "# Menyimpan ke file JSON\n",
        "with open('data.json', 'w') as file:\n",
        "    file.write(json_data)\n",
        "\n",
        "# Deserialisasi dari JSON\n",
        "with open('data.json', 'r') as file:\n",
        "    loaded_data = json.load(file)\n",
        "\n",
        "print(loaded_data)\n"
      ],
      "metadata": {
        "colab": {
          "base_uri": "https://localhost:8080/"
        },
        "id": "Hzb4wEbGCx2-",
        "outputId": "fdbfce6e-d275-4db3-f264-0b478727a8dc"
      },
      "execution_count": null,
      "outputs": [
        {
          "output_type": "stream",
          "name": "stdout",
          "text": [
            "{'nama': 'Alice', 'hobi': ['berenang', 'membaca', 'berkebun']}\n"
          ]
        }
      ]
    },
    {
      "cell_type": "markdown",
      "source": [
        "Kami mengambil kamus data yang berisi daftar dan mengonversinya menjadi JSON. Kemudian, kami menyimpannya dalam file JSON dan kemudian mendeserialisasikannya kembali."
      ],
      "metadata": {
        "id": "f2pvqBwjCzGo"
      }
    },
    {
      "cell_type": "markdown",
      "source": [
        "## Intermediate"
      ],
      "metadata": {
        "id": "K1l1qpXGC01k"
      }
    },
    {
      "cell_type": "code",
      "source": [
        "import json\n",
        "\n",
        "class Person:\n",
        "    def __init__(self, nama, usia):\n",
        "        self.nama = nama\n",
        "        self.usia = usia\n",
        "\n",
        "people = [Person('Alice', 30), Person('Bob', 25)]\n",
        "\n",
        "# Serialisasi ke JSON\n",
        "json_data = json.dumps([person.__dict__ for person in people], indent=4)\n",
        "\n",
        "# Deserialisasi dari JSON\n",
        "loaded_people = [Person(item['nama'], item['usia']) for item in json.loads(json_data)]\n",
        "\n",
        "for person in loaded_people:\n",
        "    print(person.__dict__)\n"
      ],
      "metadata": {
        "colab": {
          "base_uri": "https://localhost:8080/"
        },
        "id": "z6y8wCCSC187",
        "outputId": "5f416c32-e05f-4017-b9a0-b4a31bc1c3de"
      },
      "execution_count": null,
      "outputs": [
        {
          "output_type": "stream",
          "name": "stdout",
          "text": [
            "{'nama': 'Alice', 'usia': 30}\n",
            "{'nama': 'Bob', 'usia': 25}\n"
          ]
        }
      ]
    },
    {
      "cell_type": "markdown",
      "source": [
        "Kami membuat objek-objek kustom dari kelas Person, kemudian mengonversi daftar objek ini menjadi format JSON. Kami kemudian mendeserialisasikannya kembali dan mencetak hasilnya."
      ],
      "metadata": {
        "id": "iVjtgiZTC6SO"
      }
    },
    {
      "cell_type": "code",
      "source": [
        "import json\n",
        "\n",
        "data = {\n",
        "    'nama': 'Alice',\n",
        "    'nilai': 95,\n",
        "    'kelas': {\n",
        "        'nama_kelas': 'XII IPA 1',\n",
        "        'siswa': ['Bob', 'Charlie', 'Dave']\n",
        "    }\n",
        "}\n",
        "\n",
        "# Serialisasi ke JSON\n",
        "json_data = json.dumps(data, indent=4)\n",
        "\n",
        "# Deserialisasi dari JSON\n",
        "loaded_data = json.loads(json_data)\n",
        "\n",
        "print(loaded_data)\n"
      ],
      "metadata": {
        "colab": {
          "base_uri": "https://localhost:8080/"
        },
        "id": "_2FMUoUiC65j",
        "outputId": "50d407e9-6dfc-4975-aa17-05639e6ae109"
      },
      "execution_count": null,
      "outputs": [
        {
          "output_type": "stream",
          "name": "stdout",
          "text": [
            "{'nama': 'Alice', 'nilai': 95, 'kelas': {'nama_kelas': 'XII IPA 1', 'siswa': ['Bob', 'Charlie', 'Dave']}}\n"
          ]
        }
      ]
    },
    {
      "cell_type": "markdown",
      "source": [
        "## Advanced"
      ],
      "metadata": {
        "id": "paIOuwN0C_NR"
      }
    },
    {
      "cell_type": "code",
      "source": [
        "import json\n",
        "import xml.etree.ElementTree as ET\n",
        "import csv\n",
        "\n",
        "def serialize_data(data, format):\n",
        "    if format == 'json':\n",
        "        return json.dumps(data, indent=4)\n",
        "    elif format == 'xml':\n",
        "        root = ET.Element('data')\n",
        "        for key, value in data.items():\n",
        "            element = ET.SubElement(root, key)\n",
        "            element.text = str(value)\n",
        "        return ET.tostring(root).decode('utf-8')\n",
        "    elif format == 'csv':\n",
        "        lines = [','.join([str(key), str(value)]) for key, value in data.items()]\n",
        "        return '\\n'.join(lines)\n",
        "\n",
        "def deserialize_data(data, format):\n",
        "    if format == 'json':\n",
        "        return json.loads(data)\n",
        "    elif format == 'xml':\n",
        "        root = ET.fromstring(data)\n",
        "        return {elem.tag: elem.text for elem in root}\n",
        "    elif format == 'csv':\n",
        "        lines = data.split('\\n')\n",
        "        items = [line.split(',') for line in lines]\n",
        "        return {item[0]: item[1] for item in items if len(item) == 2}\n",
        "\n",
        "# Pengguna memilih format\n",
        "pilihan_format = input(\"Pilih format (json/xml/csv): \")\n",
        "\n",
        "data = {'nama': 'Alice', 'usia': 30, 'kota': 'Jakarta'}\n",
        "\n",
        "# Serialisasi\n",
        "serialized_data = serialize_data(data, pilihan_format)\n",
        "print(\"Data Serialisasi:\")\n",
        "print(serialized_data)\n",
        "\n",
        "# Deserialisasi\n",
        "deserialized_data = deserialize_data(serialized_data, pilihan_format)\n",
        "print(\"Data Deserialisasi:\")\n",
        "print(deserialized_data)\n"
      ],
      "metadata": {
        "colab": {
          "base_uri": "https://localhost:8080/"
        },
        "id": "eLeZu0NjDARg",
        "outputId": "f62de6f0-c63e-49a0-aaa8-ac94352573e0"
      },
      "execution_count": null,
      "outputs": [
        {
          "output_type": "stream",
          "name": "stdout",
          "text": [
            "Pilih format (json/xml/csv): Alice\n",
            "Data Serialisasi:\n",
            "None\n",
            "Data Deserialisasi:\n",
            "None\n"
          ]
        }
      ]
    },
    {
      "cell_type": "code",
      "source": [
        "import json\n",
        "import xml.etree.ElementTree as ET\n",
        "import csv\n",
        "\n",
        "def serialize_to_json(data):\n",
        "    return json.dumps(data, indent=4)\n",
        "\n",
        "def deserialize_from_json(data):\n",
        "    return json.loads(data)\n",
        "\n",
        "def serialize_to_xml(data):\n",
        "    root = ET.Element('data')\n",
        "    for key, value in data.items():\n",
        "        element = ET.SubElement(root, key)\n",
        "        element.text = str(value)\n",
        "    return ET.tostring(root).decode('utf-8')\n",
        "\n",
        "def deserialize_from_xml(data):\n",
        "    root = ET.fromstring(data)\n",
        "    return {elem.tag: elem.text for elem in root}\n",
        "\n",
        "def serialize_to_csv(data):\n",
        "    lines = [','.join([str(key), str(value)]) for key, value in data.items()]\n",
        "    return '\\n'.join(lines)\n",
        "\n",
        "def deserialize_from_csv(data):\n",
        "    lines = data.split('\\n')\n",
        "    items = [line.split(',') for line in lines]\n",
        "    return {item[0]: item[1] for item in items if len(item) == 2}\n",
        "\n",
        "# Pengguna memilih operasi\n",
        "print(\"Pilih operasi:\")\n",
        "print(\"1. Serialisasi ke JSON\")\n",
        "print(\"2. Deserialisasi dari JSON\")\n",
        "print(\"3. Serialisasi ke XML\")\n",
        "print(\"4. Deserialisasi dari XML\")\n",
        "print(\"5. Serialisasi ke CSV\")\n",
        "print(\"6. Deserialisasi dari CSV\")\n",
        "operasi = input(\"Pilih operasi (1/2/3/4/5/6): \")\n",
        "\n",
        "data = {'nama': 'Alice', 'usia': 30, 'kota': 'Jakarta'}\n",
        "\n",
        "if operasi == '1':\n",
        "    result = serialize_to_json(data)\n",
        "elif operasi == '2':\n",
        "    result = deserialize_from_json(data)\n",
        "elif operasi == '3':\n",
        "    result = serialize_to_xml(data)\n",
        "elif operasi == '4':\n",
        "    result = deserialize_from_xml(data)\n",
        "elif operasi == '5':\n",
        "    result = serialize_to_csv(data)\n",
        "elif operasi == '6':\n",
        "    result = deserialize_from_csv(data)\n",
        "\n",
        "print(result)\n"
      ],
      "metadata": {
        "colab": {
          "base_uri": "https://localhost:8080/",
          "height": 530
        },
        "id": "JB1bqpqBDHVx",
        "outputId": "877d2c58-5e7d-4100-b9b6-894b79a83fc7"
      },
      "execution_count": null,
      "outputs": [
        {
          "name": "stdout",
          "output_type": "stream",
          "text": [
            "Pilih operasi:\n",
            "1. Serialisasi ke JSON\n",
            "2. Deserialisasi dari JSON\n",
            "3. Serialisasi ke XML\n",
            "4. Deserialisasi dari XML\n",
            "5. Serialisasi ke CSV\n",
            "6. Deserialisasi dari CSV\n",
            "Pilih operasi (1/2/3/4/5/6): 2\n"
          ]
        },
        {
          "output_type": "error",
          "ename": "TypeError",
          "evalue": "the JSON object must be str, bytes or bytearray, not dict",
          "traceback": [
            "\u001b[0;31m---------------------------------------------------------------------------\u001b[0m",
            "\u001b[0;31mTypeError\u001b[0m                                 Traceback (most recent call last)",
            "\u001b[0;32m<ipython-input-6-76863ada2e3b>\u001b[0m in \u001b[0;36m<cell line: 43>\u001b[0;34m()\u001b[0m\n\u001b[1;32m     44\u001b[0m     \u001b[0mresult\u001b[0m \u001b[0;34m=\u001b[0m \u001b[0mserialize_to_json\u001b[0m\u001b[0;34m(\u001b[0m\u001b[0mdata\u001b[0m\u001b[0;34m)\u001b[0m\u001b[0;34m\u001b[0m\u001b[0;34m\u001b[0m\u001b[0m\n\u001b[1;32m     45\u001b[0m \u001b[0;32melif\u001b[0m \u001b[0moperasi\u001b[0m \u001b[0;34m==\u001b[0m \u001b[0;34m'2'\u001b[0m\u001b[0;34m:\u001b[0m\u001b[0;34m\u001b[0m\u001b[0;34m\u001b[0m\u001b[0m\n\u001b[0;32m---> 46\u001b[0;31m     \u001b[0mresult\u001b[0m \u001b[0;34m=\u001b[0m \u001b[0mdeserialize_from_json\u001b[0m\u001b[0;34m(\u001b[0m\u001b[0mdata\u001b[0m\u001b[0;34m)\u001b[0m\u001b[0;34m\u001b[0m\u001b[0;34m\u001b[0m\u001b[0m\n\u001b[0m\u001b[1;32m     47\u001b[0m \u001b[0;32melif\u001b[0m \u001b[0moperasi\u001b[0m \u001b[0;34m==\u001b[0m \u001b[0;34m'3'\u001b[0m\u001b[0;34m:\u001b[0m\u001b[0;34m\u001b[0m\u001b[0;34m\u001b[0m\u001b[0m\n\u001b[1;32m     48\u001b[0m     \u001b[0mresult\u001b[0m \u001b[0;34m=\u001b[0m \u001b[0mserialize_to_xml\u001b[0m\u001b[0;34m(\u001b[0m\u001b[0mdata\u001b[0m\u001b[0;34m)\u001b[0m\u001b[0;34m\u001b[0m\u001b[0;34m\u001b[0m\u001b[0m\n",
            "\u001b[0;32m<ipython-input-6-76863ada2e3b>\u001b[0m in \u001b[0;36mdeserialize_from_json\u001b[0;34m(data)\u001b[0m\n\u001b[1;32m      7\u001b[0m \u001b[0;34m\u001b[0m\u001b[0m\n\u001b[1;32m      8\u001b[0m \u001b[0;32mdef\u001b[0m \u001b[0mdeserialize_from_json\u001b[0m\u001b[0;34m(\u001b[0m\u001b[0mdata\u001b[0m\u001b[0;34m)\u001b[0m\u001b[0;34m:\u001b[0m\u001b[0;34m\u001b[0m\u001b[0;34m\u001b[0m\u001b[0m\n\u001b[0;32m----> 9\u001b[0;31m     \u001b[0;32mreturn\u001b[0m \u001b[0mjson\u001b[0m\u001b[0;34m.\u001b[0m\u001b[0mloads\u001b[0m\u001b[0;34m(\u001b[0m\u001b[0mdata\u001b[0m\u001b[0;34m)\u001b[0m\u001b[0;34m\u001b[0m\u001b[0;34m\u001b[0m\u001b[0m\n\u001b[0m\u001b[1;32m     10\u001b[0m \u001b[0;34m\u001b[0m\u001b[0m\n\u001b[1;32m     11\u001b[0m \u001b[0;32mdef\u001b[0m \u001b[0mserialize_to_xml\u001b[0m\u001b[0;34m(\u001b[0m\u001b[0mdata\u001b[0m\u001b[0;34m)\u001b[0m\u001b[0;34m:\u001b[0m\u001b[0;34m\u001b[0m\u001b[0;34m\u001b[0m\u001b[0m\n",
            "\u001b[0;32m/usr/lib/python3.10/json/__init__.py\u001b[0m in \u001b[0;36mloads\u001b[0;34m(s, cls, object_hook, parse_float, parse_int, parse_constant, object_pairs_hook, **kw)\u001b[0m\n\u001b[1;32m    337\u001b[0m     \u001b[0;32melse\u001b[0m\u001b[0;34m:\u001b[0m\u001b[0;34m\u001b[0m\u001b[0;34m\u001b[0m\u001b[0m\n\u001b[1;32m    338\u001b[0m         \u001b[0;32mif\u001b[0m \u001b[0;32mnot\u001b[0m \u001b[0misinstance\u001b[0m\u001b[0;34m(\u001b[0m\u001b[0ms\u001b[0m\u001b[0;34m,\u001b[0m \u001b[0;34m(\u001b[0m\u001b[0mbytes\u001b[0m\u001b[0;34m,\u001b[0m \u001b[0mbytearray\u001b[0m\u001b[0;34m)\u001b[0m\u001b[0;34m)\u001b[0m\u001b[0;34m:\u001b[0m\u001b[0;34m\u001b[0m\u001b[0;34m\u001b[0m\u001b[0m\n\u001b[0;32m--> 339\u001b[0;31m             raise TypeError(f'the JSON object must be str, bytes or bytearray, '\n\u001b[0m\u001b[1;32m    340\u001b[0m                             f'not {s.__class__.__name__}')\n\u001b[1;32m    341\u001b[0m         \u001b[0ms\u001b[0m \u001b[0;34m=\u001b[0m \u001b[0ms\u001b[0m\u001b[0;34m.\u001b[0m\u001b[0mdecode\u001b[0m\u001b[0;34m(\u001b[0m\u001b[0mdetect_encoding\u001b[0m\u001b[0;34m(\u001b[0m\u001b[0ms\u001b[0m\u001b[0;34m)\u001b[0m\u001b[0;34m,\u001b[0m \u001b[0;34m'surrogatepass'\u001b[0m\u001b[0;34m)\u001b[0m\u001b[0;34m\u001b[0m\u001b[0;34m\u001b[0m\u001b[0m\n",
            "\u001b[0;31mTypeError\u001b[0m: the JSON object must be str, bytes or bytearray, not dict"
          ]
        }
      ]
    }
  ]
}