{
  "nbformat": 4,
  "nbformat_minor": 0,
  "metadata": {
    "colab": {
      "provenance": []
    },
    "kernelspec": {
      "name": "python3",
      "display_name": "Python 3"
    },
    "language_info": {
      "name": "python"
    }
  },
  "cells": [
    {
      "cell_type": "markdown",
      "source": [
        "##Linked List"
      ],
      "metadata": {
        "id": "n-4woCZGg2Ck"
      }
    },
    {
      "cell_type": "code",
      "execution_count": null,
      "metadata": {
        "colab": {
          "base_uri": "https://localhost:8080/"
        },
        "id": "APlOX3tmgrVG",
        "outputId": "761dac78-3034-425a-a8c0-bc529f20790e"
      },
      "outputs": [
        {
          "output_type": "stream",
          "name": "stdout",
          "text": [
            "[1, 2, True, 'Rahmad']\n",
            "[1, 2, True, 'Rahmad', 'Mamat']\n",
            "[1, 2, 'Two', True, 'Rahmad', 'Mamat']\n",
            "[1, 2, 'Two', True, 'Rahmad']\n"
          ]
        }
      ],
      "source": [
        "#membuat list\n",
        "linked_list=[1,2,True,'Rahmad']\n",
        "#memunculkan list\n",
        "print(linked_list)\n",
        "#menambah nilai otomatis di terakhir\n",
        "linked_list.append('Mamat')\n",
        "print(linked_list)\n",
        "#menempatkan sesuai index yang kita inginkan\n",
        "linked_list.insert(2,'Two')\n",
        "print(linked_list)\n",
        "#menghapus nilai\n",
        "linked_list.remove('Mamat')\n",
        "print(linked_list)\n"
      ]
    },
    {
      "cell_type": "markdown",
      "source": [
        "## Stack\n",
        " adalah struktur linear yang memungkinkan data dimasukan dan dihapus dari ujung yang sama sehingga mengikuti sistem last in first out(LIFO).Penyisipan dan penghapusan masing masing dikenal sebagai push() dan pop()"
      ],
      "metadata": {
        "id": "uXwZm71_h08_"
      }
    },
    {
      "cell_type": "code",
      "source": [
        "stack=[1,2,3,4]\n",
        "print(stack)\n",
        "#menambah\n",
        "stack.append(5)\n",
        "print(stack)\n",
        "#hanya memunculkan nilai itu saja\n",
        "print(stack[-2])\n",
        "#menghapus nilai paling akhir\n",
        "stack.pop()\n",
        "print(stack)"
      ],
      "metadata": {
        "colab": {
          "base_uri": "https://localhost:8080/"
        },
        "id": "QWw3jGhMiMjf",
        "outputId": "e3671088-abd2-46ce-a2bd-eca44048554d"
      },
      "execution_count": null,
      "outputs": [
        {
          "output_type": "stream",
          "name": "stdout",
          "text": [
            "[1, 2, 3, 4]\n",
            "[1, 2, 3, 4, 5]\n",
            "4\n",
            "[1, 2, 3, 4]\n"
          ]
        }
      ]
    },
    {
      "cell_type": "markdown",
      "source": [
        "## Queue\n",
        " struktur linear yang memungkinkan penyisipan elemen dari satu ujung dan penghapusan dari ujung lain"
      ],
      "metadata": {
        "id": "KJie5rTai1iL"
      }
    },
    {
      "cell_type": "code",
      "source": [
        "queue = ['first', 'second', 'third']\n",
        "print(queue)\n",
        "\n",
        "print()\n",
        "\n",
        "# pushing elements\n",
        "queue.append('fourth')\n",
        "queue.append('fifth')\n",
        "print(queue)\n",
        "print()\n",
        "\n",
        "# printing head\n",
        "print(queue[0])\n",
        "\n",
        "# printing tail\n",
        "n = len(queue) #len (lenght) untuk menghitung seberapa banyak jumlah data\n",
        "print(queue[-1]) #untuk mengakses indeks paling belakang, tanpa len juga bisa\n",
        "print(n)\n",
        "\n",
        "\n",
        "# poping element\n",
        "queue.remove(queue[0]) #mengikuti konsep queue maka yg di remove dari paling depan\n",
        "print(queue)\n",
        "queue.pop()\n",
        "print(queue)\n",
        "\n",
        "# perbedaan fungsi remove dan pop\n",
        "#kalo remove harus pakai objek dan indeks\n",
        "#kalo pop langsung kita masukin angka indeks tidak objek"
      ],
      "metadata": {
        "colab": {
          "base_uri": "https://localhost:8080/"
        },
        "id": "w-q_lSfii-vY",
        "outputId": "21b95a04-83b8-4138-ff09-9a3a178919b5"
      },
      "execution_count": null,
      "outputs": [
        {
          "output_type": "stream",
          "name": "stdout",
          "text": [
            "['first', 'second', 'third']\n",
            "\n",
            "['first', 'second', 'third', 'fourth', 'fifth']\n",
            "\n",
            "first\n",
            "fifth\n",
            "5\n",
            "['second', 'third', 'fourth', 'fifth']\n",
            "['second', 'third', 'fourth']\n"
          ]
        }
      ]
    },
    {
      "cell_type": "markdown",
      "source": [
        "## Tree\n",
        "stuktur data non-linier tetapi hierarkis. elemen paling atas dikenal sebagai root(akar). karena tree diyakini bermula dari root.unsur unsur di ujung tree dikenal sebagai leaf"
      ],
      "metadata": {
        "id": "g_sz4EaKjoBD"
      }
    },
    {
      "cell_type": "code",
      "source": [
        "class node:\n",
        "    def __init__(self, ele):\n",
        "        self.ele = ele\n",
        "        self.left = None\n",
        "        self.right = None\n",
        "\n",
        "\n",
        "def preorder(self):\n",
        "    if self:\n",
        "        print(self.ele)\n",
        "        preorder(self.left)\n",
        "        preorder(self.right)\n",
        "\n",
        "\n",
        "n = node('first')\n",
        "n.left = node('second')\n",
        "n.right = node('third')\n",
        "preorder(n)"
      ],
      "metadata": {
        "colab": {
          "base_uri": "https://localhost:8080/"
        },
        "id": "WpW-H_aHj5T2",
        "outputId": "febe7e68-7dda-4149-9ba2-7a449a3d4969"
      },
      "execution_count": null,
      "outputs": [
        {
          "output_type": "stream",
          "name": "stdout",
          "text": [
            "first\n",
            "second\n",
            "third\n"
          ]
        }
      ]
    },
    {
      "cell_type": "markdown",
      "source": [
        "## Graph"
      ],
      "metadata": {
        "id": "rxEd6LdSj74X"
      }
    },
    {
      "cell_type": "code",
      "source": [
        "class adjnode:\n",
        "    def __init__(self, val):\n",
        "        self.val = val\n",
        "        self.next = None\n",
        "\n",
        "\n",
        "class graph:\n",
        "    def __init__(self, vertices):\n",
        "        self.v = vertices\n",
        "        self.ele = [None]*self.v\n",
        "\n",
        "    def edge(self, src, dest): #src (source), dest (destination)\n",
        "        node = adjnode(dest)\n",
        "        node.next = self.ele[src]\n",
        "        self.ele[src] = node\n",
        "\n",
        "        node = adjnode(src)\n",
        "        node.next = self.ele[dest]\n",
        "        self.ele[dest] = node\n",
        "\n",
        "    def __repr__(self):\n",
        "        for i in range(self.v):\n",
        "            print(\"Adjacency list of vertex {}\\n head\".format(i), end=\"\")\n",
        "            temp = self.ele[i]\n",
        "            while temp:\n",
        "                print(\" -> {}\".format(temp.val), end=\"\")\n",
        "                temp = temp.next\n",
        "\n",
        "g = graph(4) #mendefinisikan jumlah vertex yg ada\n",
        "#menghubungkan tia vertex tsb\n",
        "g.edge(0, 2) #node 0 akan bertetangga dengan 2 dst.\n",
        "g.edge(1, 3)\n",
        "g.edge(3, 2)\n",
        "g.edge(0, 3)\n",
        "g.__repr__()\n"
      ],
      "metadata": {
        "colab": {
          "base_uri": "https://localhost:8080/"
        },
        "id": "F7DlPc1Hj9Hy",
        "outputId": "47e1e218-44f6-4a7c-c4c1-f542bfd3b81d"
      },
      "execution_count": null,
      "outputs": [
        {
          "output_type": "stream",
          "name": "stdout",
          "text": [
            "Adjacency list of vertex 0\n",
            " head -> 3 -> 2Adjacency list of vertex 1\n",
            " head -> 3Adjacency list of vertex 2\n",
            " head -> 3 -> 0Adjacency list of vertex 3\n",
            " head -> 0 -> 2 -> 1"
          ]
        }
      ]
    },
    {
      "cell_type": "markdown",
      "source": [],
      "metadata": {
        "id": "4agiIWW6h2Vi"
      }
    }
  ]
}