{
  "nbformat": 4,
  "nbformat_minor": 0,
  "metadata": {
    "colab": {
      "provenance": []
    },
    "kernelspec": {
      "name": "python3",
      "display_name": "Python 3"
    },
    "language_info": {
      "name": "python"
    }
  },
  "cells": [
    {
      "cell_type": "code",
      "execution_count": null,
      "metadata": {
        "id": "9vqA_rEtYrz5"
      },
      "outputs": [],
      "source": []
    },
    {
      "cell_type": "markdown",
      "source": [
        "## SImple"
      ],
      "metadata": {
        "id": "XU3TVwhaYt2B"
      }
    },
    {
      "cell_type": "markdown",
      "source": [
        "### Contoh 1"
      ],
      "metadata": {
        "id": "6z-LumL2Yv_X"
      }
    },
    {
      "cell_type": "code",
      "source": [
        "import sqlite3\n",
        "conn=sqlite3.connect('mydatabase.db')\n",
        "cursor=conn.cursor()"
      ],
      "metadata": {
        "id": "BURG_DpNYxMD"
      },
      "execution_count": null,
      "outputs": []
    },
    {
      "cell_type": "markdown",
      "source": [
        "Penjelasan:\n",
        "\n",
        "Dalam contoh ini, kita menggunakan modul sqlite3 untuk terhubung ke basis data SQLite.\n",
        "\n",
        "Koneksi dibuka ke database, dan sebuah kursor dibuat untuk menjalankan perintah SQL.\n",
        "\n",
        "Setelah operasi selesai, koneksi ditutup."
      ],
      "metadata": {
        "id": "fPioDrkMY8Zq"
      }
    },
    {
      "cell_type": "code",
      "source": [
        "import sqlite3\n",
        "conn=sqlite3.connect('mydatabase.db')\n",
        "cursor=conn.cursor()\n",
        "\n",
        "#membuat tabel mahasiswa\n",
        "cursor.execute('''CREATE TABLE mahasiswa (nama TEXT, usia INT)''')\n",
        "\n",
        "#memasukan beberapa data\n",
        "data_mahasiswa=[\n",
        "    ('Rizki',21),\n",
        "    ('Rahmad',20),\n",
        "    ('Mahrom',23)\n",
        "]\n",
        "cursor.executemany(\"INSERT INTO mahasiswa VALUES (?, ?)\", data_mahasiswa)\n",
        "conn.commit()"
      ],
      "metadata": {
        "id": "JBhhNP5QY86c"
      },
      "execution_count": null,
      "outputs": []
    },
    {
      "cell_type": "markdown",
      "source": [
        "Penjelasan:\n",
        "\n",
        "Dalam contoh ini, kita membuat tabel dalam basis data SQLite ('mahasiswa') dan memasukkan beberapa data ke dalamnya.\n",
        "Data mahasiswa disisipkan menggunakan executemany, yang memungkinkan kita untuk menyisipkan beberapa baris data sekaligus.\n",
        "Setelah operasi selesai, perubahan dicommit dan koneksi ditutup."
      ],
      "metadata": {
        "id": "5fjwM1bBZvY0"
      }
    },
    {
      "cell_type": "markdown",
      "source": [
        "## Intermediate"
      ],
      "metadata": {
        "id": "O1vrOIjgZxwJ"
      }
    },
    {
      "cell_type": "markdown",
      "source": [
        "### Contoh 1"
      ],
      "metadata": {
        "id": "7BptPfBlZzlh"
      }
    },
    {
      "cell_type": "code",
      "source": [
        "nama=input('Masukan nama: ')\n",
        "cursor.execute(f'SELECT * FROM mahasiswa WHERE nama = \"{nama}\"')\n",
        "data=cursor.fetchall()\n",
        "if data:\n",
        "  for row in data:\n",
        "    print('Nama: ', row[0])\n",
        "    print('Usia: ', row[1])\n",
        "else:\n",
        "  print('Data Tidak Ditemukan')"
      ],
      "metadata": {
        "colab": {
          "base_uri": "https://localhost:8080/"
        },
        "id": "mbbcWSO4Z1hf",
        "outputId": "6f75ef44-8d9c-4594-f1d7-bff014c94c71"
      },
      "execution_count": null,
      "outputs": [
        {
          "output_type": "stream",
          "name": "stdout",
          "text": [
            "Masukan nama: Rizki\n",
            "Nama:  Rizki\n",
            "Usia:  21\n"
          ]
        }
      ]
    },
    {
      "cell_type": "markdown",
      "source": [
        "Penjelasan:\n",
        "\n",
        "Dalam contoh ini, kita mengambil data dari basis data SQLite berdasarkan nama yang dimasukkan oleh pengguna.\n",
        "\n",
        "Perintah SQL dijalankan untuk mencari data, dan data kemudian ditampilkan dalam format terstruktur.\n",
        "\n",
        "Dalam contoh ini, kita menggunakan parameter dalam perintah SQL untuk menghindari risiko SQL injection.\n",
        "Penggunaan parameter memungkinkan kita untuk mengamankan perintah SQL saat menggunakan input pengguna."
      ],
      "metadata": {
        "id": "QKDZr4wIai0i"
      }
    },
    {
      "cell_type": "markdown",
      "source": [
        "## Advanced"
      ],
      "metadata": {
        "id": "B6761oD7aj2z"
      }
    },
    {
      "cell_type": "markdown",
      "source": [
        "### Contoh 1"
      ],
      "metadata": {
        "id": "3OJ8fKpBalMt"
      }
    },
    {
      "cell_type": "code",
      "source": [
        "import sqlite3\n",
        "conn=sqlite3.connect('mydatabase.db')\n",
        "cursor=conn.cursor()\n",
        "#menjalankan kueri gabungan\n",
        "cursor.execute(\"\"\" SELECT mahasiswa.nama,mata_kuliah.kode\n",
        "FROM mahasiswa\n",
        "JOIN mata_kuliah\n",
        "ON mahasiswa.id = mata_kuliah.makasiswa_id\"\"\")\n",
        "data =cursor.fetchall()\n",
        "for row in data:\n",
        "  print('Nama Mahasiswa ', row[0])\n",
        "  print('Kode Mata Kuliah ', row[1])"
      ],
      "metadata": {
        "colab": {
          "base_uri": "https://localhost:8080/",
          "height": 211
        },
        "id": "idKsAc_Damne",
        "outputId": "97239e93-4beb-452b-de6f-86562a91e655"
      },
      "execution_count": null,
      "outputs": [
        {
          "output_type": "error",
          "ename": "OperationalError",
          "evalue": "no such table: mata_kuliah",
          "traceback": [
            "\u001b[0;31m---------------------------------------------------------------------------\u001b[0m",
            "\u001b[0;31mOperationalError\u001b[0m                          Traceback (most recent call last)",
            "\u001b[0;32m<ipython-input-8-0de64e5bc233>\u001b[0m in \u001b[0;36m<cell line: 5>\u001b[0;34m()\u001b[0m\n\u001b[1;32m      3\u001b[0m \u001b[0mcursor\u001b[0m\u001b[0;34m=\u001b[0m\u001b[0mconn\u001b[0m\u001b[0;34m.\u001b[0m\u001b[0mcursor\u001b[0m\u001b[0;34m(\u001b[0m\u001b[0;34m)\u001b[0m\u001b[0;34m\u001b[0m\u001b[0;34m\u001b[0m\u001b[0m\n\u001b[1;32m      4\u001b[0m \u001b[0;31m#menjalankan kueri gabungan\u001b[0m\u001b[0;34m\u001b[0m\u001b[0;34m\u001b[0m\u001b[0m\n\u001b[0;32m----> 5\u001b[0;31m cursor.execute(\"\"\" SELECT mahasiswa.nama,mata_kuliah.kode \n\u001b[0m\u001b[1;32m      6\u001b[0m \u001b[0mFROM\u001b[0m \u001b[0mmahasiswa\u001b[0m\u001b[0;34m\u001b[0m\u001b[0;34m\u001b[0m\u001b[0m\n\u001b[1;32m      7\u001b[0m \u001b[0mJOIN\u001b[0m \u001b[0mmata_kuliah\u001b[0m\u001b[0;34m\u001b[0m\u001b[0;34m\u001b[0m\u001b[0m\n",
            "\u001b[0;31mOperationalError\u001b[0m: no such table: mata_kuliah"
          ]
        }
      ]
    },
    {
      "cell_type": "code",
      "source": [
        "import sqlite3\n",
        "import csv\n",
        "\n",
        "# conn = sqlite3.connect('mydatabase.db')\n",
        "# cursor = conn.cursor()\n",
        "\n",
        "# Menjalankan kueri\n",
        "cursor.execute(\"SELECT * FROM mahasiswa\")\n",
        "\n",
        "data = cursor.fetchall()\n",
        "\n",
        "with open('output.csv', 'w', newline='') as csv_file:\n",
        "    csv_writer = csv.writer(csv_file)\n",
        "\n",
        "    # Menulis header\n",
        "    csv_writer.writerow([i[0] for i in cursor.description])\n",
        "\n",
        "    # Menulis data\n",
        "    csv_writer.writerows(data)\n",
        "\n",
        "conn.close()\n"
      ],
      "metadata": {
        "id": "cc5LvXbSbgdX"
      },
      "execution_count": null,
      "outputs": []
    }
  ]
}