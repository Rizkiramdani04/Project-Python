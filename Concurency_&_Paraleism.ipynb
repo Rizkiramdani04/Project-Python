{
  "nbformat": 4,
  "nbformat_minor": 0,
  "metadata": {
    "colab": {
      "provenance": []
    },
    "kernelspec": {
      "name": "python3",
      "display_name": "Python 3"
    },
    "language_info": {
      "name": "python"
    }
  },
  "cells": [
    {
      "cell_type": "code",
      "execution_count": null,
      "metadata": {
        "id": "qPZBP--26Gnp"
      },
      "outputs": [],
      "source": []
    },
    {
      "cell_type": "markdown",
      "source": [
        "## Simple"
      ],
      "metadata": {
        "id": "dZNxXUz86HuO"
      }
    },
    {
      "cell_type": "markdown",
      "source": [
        "### Contoh 1"
      ],
      "metadata": {
        "id": "GzPYQoMS6Ja9"
      }
    },
    {
      "cell_type": "code",
      "source": [
        "import threading\n",
        "import time\n",
        "def print_numbers():\n",
        "  for i in range(1,6):\n",
        "    print(f'Number: {i}')\n",
        "    time.sleep(1)\n",
        "def print_letters():\n",
        "  for letter in 'abcde':\n",
        "    print(f'Letter:  {letter}')\n",
        "    time.sleep(1)\n",
        "thread1=threading.Thread(target=print_numbers)\n",
        "thread2=threading.Thread(target=print_letters)\n",
        "\n",
        "thread1.start()\n",
        "thread2.start()\n",
        "\n",
        "thread1.join()\n",
        "thread2.join()"
      ],
      "metadata": {
        "colab": {
          "base_uri": "https://localhost:8080/"
        },
        "id": "5VnlpNar6K4A",
        "outputId": "960edbfa-aa69-4136-fde6-b352a8ea2cdf"
      },
      "execution_count": null,
      "outputs": [
        {
          "output_type": "stream",
          "name": "stdout",
          "text": [
            "Number: 1\n",
            "Letter:  a\n",
            "Number: 2\n",
            "Letter:  b\n",
            "Number: 3\n",
            "Letter:  c\n",
            "Number: 4\n",
            "Letter:  d\n",
            "Number: 5\n",
            "Letter:  e\n"
          ]
        }
      ]
    },
    {
      "cell_type": "markdown",
      "source": [
        "Penjelasan:\n",
        "\n",
        "Dalam contoh ini, terdapat dua fungsi, print_numbers dan print_letters, masing-masing mensimulasikan sebuah tugas.\n",
        "\n",
        "Kami membuat dua thread, thread1 dan thread2, untuk menjalankan fungsi-fungsi ini secara bersamaan.\n",
        "\n",
        "thread1.start() dan thread2.start() memulai thread-thread tersebut.\n",
        "\n",
        "Kami menggunakan thread1.join() dan thread2.join() untuk menunggu thread selesai.\n",
        "\n",
        "Thread-thread ini menjalankan tugas secara bersamaan, mencetak angka dan huruf, dan melakukan sleep selama 1 detik setelah mencetak setiap karakter.\n",
        "\n",
        "Contoh 2: Keamanan Thread dengan Sumber Daya Bersama"
      ],
      "metadata": {
        "id": "Lo20CsUS62de"
      }
    },
    {
      "cell_type": "markdown",
      "source": [
        "### Contoh 2"
      ],
      "metadata": {
        "id": "CGPjHj7u623r"
      }
    },
    {
      "cell_type": "code",
      "source": [
        "import threading\n",
        "counter=0\n",
        "lock=threading.Lock()\n",
        "\n",
        "def increment():\n",
        "  global counter\n",
        "  for _ in range(100000):\n",
        "    with lock:\n",
        "      counter +=1\n",
        "\n",
        "thread1=threading.Thread(target=increment)\n",
        "thread2=threading.Thread(target=increment)\n",
        "\n",
        "thread1.start()\n",
        "thread2.start()\n",
        "\n",
        "thread1.join()\n",
        "thread2.join()\n",
        "\n",
        "print(f'Counter, {counter}')"
      ],
      "metadata": {
        "colab": {
          "base_uri": "https://localhost:8080/"
        },
        "id": "FsCWTCbr64gl",
        "outputId": "c03c2110-b511-4daa-f405-3c9e95d04ef8"
      },
      "execution_count": null,
      "outputs": [
        {
          "output_type": "stream",
          "name": "stdout",
          "text": [
            "Counter, 200000\n"
          ]
        }
      ]
    },
    {
      "cell_type": "markdown",
      "source": [
        "Penjelasan:\n",
        "\n",
        "Contoh ini menggambarkan masalah umum dalam pemrograman konkurensi: sumber daya bersama.\n",
        "Kami memiliki variabel global counter yang diinkremen oleh beberapa thread secara bersamaan.\n",
        "Untuk memastikan keamanan thread, kami menggunakan threading.Lock untuk melindungi bagian kritis di mana counter diperbarui.\n",
        "Setiap thread, thread1 dan thread2, menginkremen counter sebanyak 100,000 kali.\n",
        "Setelah kedua thread selesai, kami mencetak nilai terakhir dari counter. Menggunakan lock memastikan bahwa counter diperbarui secara aman."
      ],
      "metadata": {
        "id": "8zuXiuLq7Yhp"
      }
    },
    {
      "cell_type": "markdown",
      "source": [
        "## Intermediate"
      ],
      "metadata": {
        "id": "wsa1foGb7Y7r"
      }
    },
    {
      "cell_type": "markdown",
      "source": [
        "### Contoh 1"
      ],
      "metadata": {
        "id": "DtZuePVA7ayn"
      }
    },
    {
      "cell_type": "code",
      "source": [
        "import threading\n",
        "import queue\n",
        "\n",
        "def produsen(q):\n",
        "  for i in range(5):\n",
        "    q.put(i)\n",
        "\n",
        "def konsumen(q):\n",
        "  while True:\n",
        "    item =q.get()\n",
        "    if item is None:\n",
        "      break\n",
        "    print('Dikonsumsi', item)\n",
        "\n",
        "\n",
        "q=queue.Queue()\n",
        "thread_produsen=threading.Thread(target=produsen, args=(q,))\n",
        "thread_konsumen=threading.Thread(target=konsumen, args=(q,))\n",
        "\n",
        "thread_produsen.start()\n",
        "thread_konsumen.start()\n",
        "\n",
        "thread_produsen.join()\n",
        "q.put(None)\n",
        "thread_konsumen.join()\n"
      ],
      "metadata": {
        "colab": {
          "base_uri": "https://localhost:8080/"
        },
        "id": "u6-9W7ee7dD1",
        "outputId": "940f9ace-4e2d-4c49-8ee1-2673bddbbe9c"
      },
      "execution_count": null,
      "outputs": [
        {
          "output_type": "stream",
          "name": "stdout",
          "text": [
            "Dikonsumsi 0\n",
            "Dikonsumsi 1\n",
            "Dikonsumsi 2\n",
            "Dikonsumsi 3\n",
            "Dikonsumsi 4\n"
          ]
        }
      ]
    },
    {
      "cell_type": "markdown",
      "source": [
        "Penjelasan:\n",
        "\n",
        "Dalam contoh ini, kami memiliki dua thread yang mewakili produsen dan konsumen.\n",
        "\n",
        "Thread produsen, thread_produsen, menghasilkan dan menambahkan item ke antrian bersama.\n",
        "\n",
        "Thread konsumen, thread_konsumen, mengonsumsi item dari antrian.\n",
        "\n",
        "Thread konsumen terus mengonsumsi item hingga menerima sinyal \"berhenti\" (None) dari produsen.\n",
        "\n",
        "Penggunaan antrian memastikan keselamatan konkurensi dan mengizinkan komunikasi yang aman antara produsen dan konsumen."
      ],
      "metadata": {
        "id": "iYJkJejL8TKS"
      }
    },
    {
      "cell_type": "markdown",
      "source": [
        "### Contoh 2"
      ],
      "metadata": {
        "id": "JT8cc2dF8USW"
      }
    },
    {
      "cell_type": "code",
      "source": [
        "from concurrent.futures import ThreadPoolExecutor\n",
        "import time\n",
        "\n",
        "def kuadrat(x):\n",
        "    time.sleep(1)\n",
        "    return x * x\n",
        "\n",
        "data = [1, 2, 3, 4, 5]\n",
        "with ThreadPoolExecutor(max_workers=3) as executor:\n",
        "    hasil = list(executor.map(kuadrat, data))\n",
        "\n",
        "print(\"Hasil:\", hasil)\n"
      ],
      "metadata": {
        "colab": {
          "base_uri": "https://localhost:8080/"
        },
        "id": "bUN2ULB28VU-",
        "outputId": "35e3e55c-6db4-493b-a1f2-05d0dbb3f66b"
      },
      "execution_count": null,
      "outputs": [
        {
          "output_type": "stream",
          "name": "stdout",
          "text": [
            "Hasil: [1, 4, 9, 16, 25]\n"
          ]
        }
      ]
    },
    {
      "cell_type": "markdown",
      "source": [
        "Penjelasan:\n",
        "\n",
        "Pada contoh ini, kami memperkenalkan ThreadPoolExecutor dari modul concurrent.futures, yang menyediakan cara praktis untuk mengelola dan menjalankan tugas secara bersamaan.\n",
        "Kami mendefinisikan fungsi kuadrat yang mensimulasikan tugas dengan melakukan kuadrat angka dan tidur selama 1 detik.\n",
        "Kami membuat daftar data dan menggunakan metode executor.map untuk pengeksekusian secara bersamaan"
      ],
      "metadata": {
        "id": "D5Rk-alH8aaw"
      }
    },
    {
      "cell_type": "markdown",
      "source": [
        "## Advanced"
      ],
      "metadata": {
        "id": "Fhi8g1uO8bcH"
      }
    },
    {
      "cell_type": "code",
      "source": [
        "from concurrent.futures import ThreadPoolExecutor, ProcessPoolExecutor\n",
        "import time\n",
        "\n",
        "def kuadrat(x):\n",
        "    time.sleep(1)\n",
        "    return x * x\n",
        "\n",
        "data = [1, 2, 3, 4, 5]\n",
        "with ThreadPoolExecutor(max_workers=3) as executor:\n",
        "    hasil = list(executor.map(kuadrat, data))\n",
        "\n",
        "print(\"Hasil (Thread):\", hasil)\n"
      ],
      "metadata": {
        "colab": {
          "base_uri": "https://localhost:8080/"
        },
        "id": "DUf4RyH88ckv",
        "outputId": "002d38d5-108f-4ea9-d017-18ade8073e25"
      },
      "execution_count": null,
      "outputs": [
        {
          "output_type": "stream",
          "name": "stdout",
          "text": [
            "Hasil (Thread): [1, 4, 9, 16, 25]\n"
          ]
        }
      ]
    },
    {
      "cell_type": "markdown",
      "source": [
        "Penjelasan:\n",
        "\n",
        "Pada contoh ini, kami menggunakan ThreadPoolExecutor untuk mengeksekusi fungsi kuadrat secara bersamaan dengan maksimal 3 thread.\n",
        "\n",
        "Fungsi kuadrat mensimulasikan tugas dengan mengkuadratkan angka dan tidur selama 1 detik.\n",
        "\n",
        "Metode executor.map memetakan fungsi ke data dan hasilnya dikumpulkan.\n",
        "\n",
        "Ini menggambarkan eksekusi bersamaan dengan thread."
      ],
      "metadata": {
        "id": "uphAEwdl8f03"
      }
    },
    {
      "cell_type": "code",
      "source": [
        "from concurrent.futures import ThreadPoolExecutor, ProcessPoolExecutor\n",
        "import time\n",
        "\n",
        "def kuadrat(x):\n",
        "    time.sleep(1)\n",
        "    return x * x\n",
        "\n",
        "data = [1, 2, 3, 4, 5]\n",
        "with ProcessPoolExecutor(max_workers=3) as executor:\n",
        "    hasil = list(executor.map(kuadrat, data))\n",
        "\n",
        "print(\"Hasil (Proses):\", hasil)\n"
      ],
      "metadata": {
        "colab": {
          "base_uri": "https://localhost:8080/"
        },
        "id": "TCIlRr2a8gxJ",
        "outputId": "61e3adbe-3a68-4f3e-f6b2-9dbc59942c86"
      },
      "execution_count": null,
      "outputs": [
        {
          "output_type": "stream",
          "name": "stdout",
          "text": [
            "Hasil (Proses): [1, 4, 9, 16, 25]\n"
          ]
        }
      ]
    },
    {
      "cell_type": "markdown",
      "source": [
        "Penjelasan:\n",
        "\n",
        "Contoh ini mirip dengan yang sebelumnya, tetapi menunjukkan eksekusi bersamaan menggunakan proses alih-alih thread.\n",
        "Kami menggunakan ProcessPoolExecutor untuk mengeksekusi fungsi kuadrat dengan maksimal 3 proses.\n",
        "Fungsi kuadrat mensimulasikan tugas dengan mengkuadratkan angka dan tidur selama 1 detik.\n",
        "Metode executor.map memetakan fungsi ke data dan hasilnya dikumpulkan.\n",
        "Eksekusi berbasis proses cocok untuk tugas yang membutuhkan banyak sumber daya CPU.\n",
        "\n",
        "Dengan demikian, materi ini mencakup berbagai konsep konkurensi dan paralelisme dalam Python, mulai dari threading yang sederhana hingga eksekusi bersamaan yang lebih canggih dengan thread dan proses. Materi ini membantu peserta memahami prinsip-prinsip dasar dan aplikasi konkurensi dan paralelisme dalam pemrograman Python"
      ],
      "metadata": {
        "id": "1KY_qhbj8jZ5"
      }
    }
  ]
}