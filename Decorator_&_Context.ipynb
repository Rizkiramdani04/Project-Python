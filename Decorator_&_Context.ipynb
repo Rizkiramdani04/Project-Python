{
  "nbformat": 4,
  "nbformat_minor": 0,
  "metadata": {
    "colab": {
      "provenance": []
    },
    "kernelspec": {
      "name": "python3",
      "display_name": "Python 3"
    },
    "language_info": {
      "name": "python"
    }
  },
  "cells": [
    {
      "cell_type": "code",
      "execution_count": null,
      "metadata": {
        "id": "YGzvT0IoxETJ"
      },
      "outputs": [],
      "source": []
    },
    {
      "cell_type": "markdown",
      "source": [
        "## SImple"
      ],
      "metadata": {
        "id": "dcoePCb-xNmk"
      }
    },
    {
      "cell_type": "markdown",
      "source": [
        "### COntoh 1"
      ],
      "metadata": {
        "id": "GQoYHIS1xOy4"
      }
    },
    {
      "cell_type": "code",
      "source": [
        "import time\n",
        "def timing_decorator(func):\n",
        "  def wrapper(*args, **kwargs):\n",
        "    start_time=time.time()\n",
        "    result=func(*args, **kwargs)\n",
        "    end_time=time.time()\n",
        "    print(f'function {func.__name__} took  {end_time - start_time} Second to execute')\n",
        "    return result\n",
        "  return wrapper\n",
        "@timing_decorator\n",
        "def sample_function():\n",
        "  return 500 ** 2\n",
        "sample_function()"
      ],
      "metadata": {
        "colab": {
          "base_uri": "https://localhost:8080/"
        },
        "id": "5LYynbDPxQHA",
        "outputId": "b1b5c17c-6af9-4907-dd53-a12dd7a3abca"
      },
      "execution_count": null,
      "outputs": [
        {
          "output_type": "stream",
          "name": "stdout",
          "text": [
            "function sample_function took  7.152557373046875e-07 Second to execute\n"
          ]
        },
        {
          "output_type": "execute_result",
          "data": {
            "text/plain": [
              "250000"
            ]
          },
          "metadata": {},
          "execution_count": 1
        }
      ]
    },
    {
      "cell_type": "markdown",
      "source": [
        "### Contoh 2"
      ],
      "metadata": {
        "id": "dxdgLBd8yB5Y"
      }
    },
    {
      "cell_type": "code",
      "source": [
        "def log_decorator(func):\n",
        "  def wrapper(*args, **kwargs):\n",
        "    print(f'Calling {func.__name__} with args: {args}, kwargs: {kwargs}')\n",
        "    result=func(*args, **kwargs)\n",
        "    print(f'{func.__name__} returned {result}')\n",
        "    return result\n",
        "  return wrapper\n",
        "@log_decorator\n",
        "def add(a,b):\n",
        "  return a * b\n",
        "results=add(3,3)"
      ],
      "metadata": {
        "colab": {
          "base_uri": "https://localhost:8080/"
        },
        "id": "LLkvWHAVyDHR",
        "outputId": "1ad91820-7729-40ed-e7f6-ad5e719aa7bb"
      },
      "execution_count": null,
      "outputs": [
        {
          "output_type": "stream",
          "name": "stdout",
          "text": [
            "Calling add with args: (3, 3), kwargs: {}\n",
            "add returned 9\n"
          ]
        }
      ]
    },
    {
      "cell_type": "code",
      "source": [
        "results"
      ],
      "metadata": {
        "colab": {
          "base_uri": "https://localhost:8080/"
        },
        "id": "CiJRJE1kysdV",
        "outputId": "7093af59-4276-44dd-c142-058d8ca3b5d1"
      },
      "execution_count": null,
      "outputs": [
        {
          "output_type": "execute_result",
          "data": {
            "text/plain": [
              "9"
            ]
          },
          "metadata": {},
          "execution_count": 3
        }
      ]
    },
    {
      "cell_type": "markdown",
      "source": [
        "## Intermediate"
      ],
      "metadata": {
        "id": "16ahJv1Dyup1"
      }
    },
    {
      "cell_type": "code",
      "source": [
        "import time\n",
        "from contextlib import contextmanager\n",
        "\n",
        "@contextmanager\n",
        "def timer_context_manager():\n",
        "  start_time=time.time()\n",
        "  yield\n",
        "  end_time=time.time()\n",
        "  print(f'Code block {end_time- start_time} second to run')\n",
        "\n",
        "with timer_context_manager():\n",
        "  time.sleep(3)"
      ],
      "metadata": {
        "colab": {
          "base_uri": "https://localhost:8080/"
        },
        "id": "uLHO8TpMyxQ5",
        "outputId": "c1a23d1b-a76b-4280-d916-d3b1fb128748"
      },
      "execution_count": null,
      "outputs": [
        {
          "output_type": "stream",
          "name": "stdout",
          "text": [
            "Code block 3.0027830600738525 second to run\n"
          ]
        }
      ]
    },
    {
      "cell_type": "markdown",
      "source": [
        "### Contoh 2"
      ],
      "metadata": {
        "id": "rZpfBDRqzVqS"
      }
    },
    {
      "cell_type": "code",
      "source": [
        "from contextlib import contextmanager\n",
        "@contextmanager\n",
        "def file_opener(filename, mode):\n",
        "  try:\n",
        "    file=open(filename,mode)\n",
        "    yield file\n",
        "  finally:\n",
        "    file.close()\n",
        "with file_opener('sample.txt','w') as file:\n",
        "  file.write('Rizki Kamu Bisa ya!')"
      ],
      "metadata": {
        "id": "VZZt0RegzW6M"
      },
      "execution_count": null,
      "outputs": []
    },
    {
      "cell_type": "markdown",
      "source": [
        "## Advanced"
      ],
      "metadata": {
        "id": "b4PvSnojz2F2"
      }
    },
    {
      "cell_type": "markdown",
      "source": [
        "### Contoh 1"
      ],
      "metadata": {
        "id": "0-gdQh59z3Hh"
      }
    },
    {
      "cell_type": "code",
      "source": [
        "def advanced_log(func):\n",
        "  def wrapper(*args,**kwargs):\n",
        "    args_str=', '.join([str(arg) for arg in args])\n",
        "    kwargs_str=', '.join([f'{key}={value}' for key, value in kwargs.items()])\n",
        "    all_args=', '.join(filter(None, [args_str, kwargs_str]))\n",
        "\n",
        "    result=func(*args,**kwargs)\n",
        "    print(f'Function {func.__name__}({all_args}) returned {result}')\n",
        "    return result\n",
        "  return wrapper\n",
        "\n",
        "@advanced_log\n",
        "def multiply(x,y):\n",
        "    return x * y\n",
        "multiply(4,3)"
      ],
      "metadata": {
        "colab": {
          "base_uri": "https://localhost:8080/"
        },
        "id": "0t8iL3esz4jD",
        "outputId": "e7588c53-e72e-4726-dd88-a7d04d179cce"
      },
      "execution_count": null,
      "outputs": [
        {
          "output_type": "stream",
          "name": "stdout",
          "text": [
            "Function multiply(4, 3) returned 12\n"
          ]
        },
        {
          "output_type": "execute_result",
          "data": {
            "text/plain": [
              "12"
            ]
          },
          "metadata": {},
          "execution_count": 9
        }
      ]
    },
    {
      "cell_type": "markdown",
      "source": [
        "### Contoh 2"
      ],
      "metadata": {
        "id": "kBXFSHzu1vu2"
      }
    },
    {
      "cell_type": "code",
      "source": [
        "from contextlib import contextmanager\n",
        "\n",
        "@contextmanager\n",
        "def exception_handler(exception_type):\n",
        "    try:\n",
        "        yield\n",
        "    except exception_type as e:\n",
        "        print(f\"Caught exception: {e}\")\n",
        "\n",
        "with exception_handler(ZeroDivisionError):\n",
        "    result = 10 / 0\n"
      ],
      "metadata": {
        "colab": {
          "base_uri": "https://localhost:8080/"
        },
        "id": "pPxaNOUp1w2D",
        "outputId": "6c9c38d7-4237-49f6-948b-40d4983925e2"
      },
      "execution_count": null,
      "outputs": [
        {
          "output_type": "stream",
          "name": "stdout",
          "text": [
            "Caught exception: division by zero\n"
          ]
        }
      ]
    }
  ]
}