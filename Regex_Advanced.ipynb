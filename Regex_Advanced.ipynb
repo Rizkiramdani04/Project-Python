{
  "nbformat": 4,
  "nbformat_minor": 0,
  "metadata": {
    "colab": {
      "provenance": []
    },
    "kernelspec": {
      "name": "python3",
      "display_name": "Python 3"
    },
    "language_info": {
      "name": "python"
    }
  },
  "cells": [
    {
      "cell_type": "code",
      "execution_count": null,
      "metadata": {
        "id": "kitXa-hEABY7"
      },
      "outputs": [],
      "source": []
    },
    {
      "cell_type": "markdown",
      "source": [
        "## Simple"
      ],
      "metadata": {
        "id": "AHj0gEJOAO-R"
      }
    },
    {
      "cell_type": "markdown",
      "source": [
        "### Contoh 1"
      ],
      "metadata": {
        "id": "3lrAbowPAP_b"
      }
    },
    {
      "cell_type": "code",
      "source": [
        "import re\n",
        "email_pattern=r'^[\\w\\.-]+@[\\w\\/-]+\\.\\w+$'\n",
        "email='riskiram122@gmail.com'\n",
        "if re.match(email_pattern,email):\n",
        "  print('Email Valid')\n",
        "else:\n",
        "  print('Email Tidak Valid')"
      ],
      "metadata": {
        "colab": {
          "base_uri": "https://localhost:8080/"
        },
        "id": "F1OGOZoOARJs",
        "outputId": "ababac14-96e4-4ef8-f644-a6fec394a068"
      },
      "execution_count": null,
      "outputs": [
        {
          "output_type": "stream",
          "name": "stdout",
          "text": [
            "Email Valid\n"
          ]
        }
      ]
    },
    {
      "cell_type": "markdown",
      "source": [
        "Penjelasan:\n",
        "\n",
        "Dalam contoh ini, kita menggunakan ekspresi reguler (email_pattern) yang mencocokkan alamat email dengan format yang benar.\n",
        "\n",
        "Ekspresi ini memeriksa karakter sebelum \"@\" dan setelahnya, serta domain.\n",
        "\n",
        "Jika alamat email cocok dengan pola ini, kita menyatakan bahwa email itu valid."
      ],
      "metadata": {
        "id": "GoD1XOMqAs2q"
      }
    },
    {
      "cell_type": "markdown",
      "source": [
        "### Contoh 2"
      ],
      "metadata": {
        "id": "TAQxVs2gAtbF"
      }
    },
    {
      "cell_type": "code",
      "source": [
        "import re\n",
        "email='riskiram122@gmail.com'\n",
        "domain=re.search(r'@([\\w\\.-]+)',email).group(1)\n",
        "print('Domain',domain)"
      ],
      "metadata": {
        "colab": {
          "base_uri": "https://localhost:8080/"
        },
        "id": "rdEdSA_MAuh2",
        "outputId": "c915d5a8-cd3e-4454-a98f-4cd898af6c7e"
      },
      "execution_count": null,
      "outputs": [
        {
          "output_type": "stream",
          "name": "stdout",
          "text": [
            "Domain gmail.com\n"
          ]
        }
      ]
    },
    {
      "cell_type": "markdown",
      "source": [
        "Penjelasan:\n",
        "\n",
        "Dalam contoh ini, kita menggunakan ekspresi reguler untuk mengekstraksi domain dari alamat email.\n",
        "Ekspresi ini mencari tanda \"@\" dan kemudian mengambil karakter setelahnya hingga karakter pemisah seperti \".\".\n",
        "Hasilnya adalah ekstraksi domain dari alamat email."
      ],
      "metadata": {
        "id": "HubtiaaHBA0I"
      }
    },
    {
      "cell_type": "markdown",
      "source": [
        "## Intermediate"
      ],
      "metadata": {
        "id": "TG_JJ_VeBBNr"
      }
    },
    {
      "cell_type": "markdown",
      "source": [
        "### Contoh 1"
      ],
      "metadata": {
        "id": "zccC2gooBDAa"
      }
    },
    {
      "cell_type": "code",
      "source": [
        "import re\n",
        "\n",
        "html = \"\"\"\n",
        "<a href=\"https://example.com\">Link 1</a>\n",
        "<a href=\"https://openai.com\">Link 2</a>\n",
        "<p>Not a link</p>\n",
        "\"\"\"\n",
        "\n",
        "links = re.findall(r'href=[\"\\'](https?://\\S+)[\"\\']', html)\n",
        "\n",
        "for link in links:\n",
        "    print(\"Tautan:\", link)\n"
      ],
      "metadata": {
        "colab": {
          "base_uri": "https://localhost:8080/"
        },
        "id": "Nvqp0XCtBEHA",
        "outputId": "35d3d8a8-e379-4c86-8824-616a4754a447"
      },
      "execution_count": null,
      "outputs": [
        {
          "output_type": "stream",
          "name": "stdout",
          "text": [
            "Tautan: https://example.com\n",
            "Tautan: https://openai.com\n"
          ]
        }
      ]
    },
    {
      "cell_type": "code",
      "source": [
        "import re\n",
        "\n",
        "html = \"\"\"\n",
        "Visit our website at <a href=\"https://example.com\">Example</a>\n",
        "Click <a href=\"https://openai.com\">here</a> for more info.\n",
        "\"\"\"\n",
        "\n",
        "links = re.findall(r'<a [^>]*href=[\"\\'](https?://\\S+)[\"\\']', html)\n",
        "\n",
        "for link in links:\n",
        "    print(\"Tautan:\", link)\n"
      ],
      "metadata": {
        "colab": {
          "base_uri": "https://localhost:8080/"
        },
        "id": "P4cLeUskCH-3",
        "outputId": "934532e1-f161-4b91-a45f-d32d2aaec2b9"
      },
      "execution_count": null,
      "outputs": [
        {
          "output_type": "stream",
          "name": "stdout",
          "text": [
            "Tautan: https://example.com\n",
            "Tautan: https://openai.com\n"
          ]
        }
      ]
    },
    {
      "cell_type": "markdown",
      "source": [
        "Penjelasan:\n",
        "\n",
        "Contoh ini menunjukkan cara mengekstraksi URL dari teks HTML yang mungkin memiliki lebih banyak atribut di dalam tag anchor (\\<a>\\).\n",
        "Ekspresi reguler ini mencocokkan tag anchor (\\<a>\\) yang memiliki atribut href dan mengekstraksi URL-nya."
      ],
      "metadata": {
        "id": "IgYKo3g8CJx5"
      }
    },
    {
      "cell_type": "code",
      "source": [
        "import re\n",
        "\n",
        "phone_numbers = [\"+1 123-456-7890\", \"555-5555\", \"123.456.7890\", \"+44 20 7123 1234\"]\n",
        "\n",
        "phone_pattern = r'^\\+\\d{1,3}\\s?\\d{1,3}[-. ]\\d{1,4}[-. ]\\d{1,4}$'\n",
        "\n",
        "for phone in phone_numbers:\n",
        "    if re.match(phone_pattern, phone):\n",
        "        print(f\"Nomor Telepon '{phone}' valid.\")\n",
        "    else:\n",
        "        print(f\"Nomor Telepon '{phone}' tidak valid.\")\n"
      ],
      "metadata": {
        "colab": {
          "base_uri": "https://localhost:8080/"
        },
        "id": "xqSX_Zz7CKMY",
        "outputId": "430e05d6-2858-41e3-dc6c-fabbd3ba368f"
      },
      "execution_count": null,
      "outputs": [
        {
          "output_type": "stream",
          "name": "stdout",
          "text": [
            "Nomor Telepon '+1 123-456-7890' valid.\n",
            "Nomor Telepon '555-5555' tidak valid.\n",
            "Nomor Telepon '123.456.7890' tidak valid.\n",
            "Nomor Telepon '+44 20 7123 1234' valid.\n"
          ]
        }
      ]
    }
  ]
}